{
  "nbformat": 4,
  "nbformat_minor": 0,
  "metadata": {
    "colab": {
      "name": "SachinVsKohli.ipynb",
      "provenance": [],
      "authorship_tag": "ABX9TyPLT3D6EnzEKs2jnu9qgXZO",
      "include_colab_link": true
    },
    "kernelspec": {
      "name": "python3",
      "display_name": "Python 3"
    },
    "language_info": {
      "name": "python"
    }
  },
  "cells": [
    {
      "cell_type": "markdown",
      "metadata": {
        "id": "view-in-github",
        "colab_type": "text"
      },
      "source": [
        "<a href=\"https://colab.research.google.com/github/Kranthi461/DataScienceProjects/blob/main/SachinVsKohli.ipynb\" target=\"_parent\"><img src=\"https://colab.research.google.com/assets/colab-badge.svg\" alt=\"Open In Colab\"/></a>"
      ]
    },
    {
      "cell_type": "code",
      "execution_count": 1,
      "metadata": {
        "id": "k_sflVxDTcJj"
      },
      "outputs": [],
      "source": [
        "import warnings\n",
        "warnings.filterwarnings('ignore')\n",
        "\n",
        "import pandas as pd\n",
        "import numpy as np\n",
        "\n",
        "import matplotlib.pyplot as plt\n",
        "\n",
        "# to display all the rows coloumns\n",
        "pd.set_option('display.max_rows', None)\n",
        "pd.set_option('display.max_columns',None)\n",
        "pd.set_option('display.expand_frame_repr',False)\n",
        "pd.set_option('max_colwidth',-1)\n"
      ]
    },
    {
      "cell_type": "code",
      "source": [
        "df=pd.read_csv(\"ODI_data.csv\")"
      ],
      "metadata": {
        "id": "4HocKBDliQuy"
      },
      "execution_count": 3,
      "outputs": []
    },
    {
      "cell_type": "code",
      "source": [
        "df.head(2)"
      ],
      "metadata": {
        "colab": {
          "base_uri": "https://localhost:8080/",
          "height": 263
        },
        "id": "4bUrguhvwwz9",
        "outputId": "163f2b35-413e-4c2c-b2b4-1f603bf3f08d"
      },
      "execution_count": 4,
      "outputs": [
        {
          "output_type": "execute_result",
          "data": {
            "text/html": [
              "\n",
              "  <div id=\"df-ce231abf-71f3-4dfb-8efc-7d58b80f761e\">\n",
              "    <div class=\"colab-df-container\">\n",
              "      <div>\n",
              "<style scoped>\n",
              "    .dataframe tbody tr th:only-of-type {\n",
              "        vertical-align: middle;\n",
              "    }\n",
              "\n",
              "    .dataframe tbody tr th {\n",
              "        vertical-align: top;\n",
              "    }\n",
              "\n",
              "    .dataframe thead th {\n",
              "        text-align: right;\n",
              "    }\n",
              "</style>\n",
              "<table border=\"1\" class=\"dataframe\">\n",
              "  <thead>\n",
              "    <tr style=\"text-align: right;\">\n",
              "      <th></th>\n",
              "      <th>Innings Player</th>\n",
              "      <th>Innings Runs Scored</th>\n",
              "      <th>Innings Runs Scored Num</th>\n",
              "      <th>Innings Minutes Batted</th>\n",
              "      <th>Innings Batted Flag</th>\n",
              "      <th>Innings Not Out Flag</th>\n",
              "      <th>Innings Balls Faced</th>\n",
              "      <th>Innings Boundary Fours</th>\n",
              "      <th>Innings Boundary Sixes</th>\n",
              "      <th>Innings Batting Strike Rate</th>\n",
              "      <th>Innings Number</th>\n",
              "      <th>Opposition</th>\n",
              "      <th>Ground</th>\n",
              "      <th>Innings Date</th>\n",
              "      <th>Country</th>\n",
              "      <th>50's</th>\n",
              "      <th>100's</th>\n",
              "      <th>Innings Runs Scored Buckets</th>\n",
              "      <th>Innings Overs Bowled</th>\n",
              "      <th>Innings Bowled Flag</th>\n",
              "      <th>Innings Maidens Bowled</th>\n",
              "      <th>Innings Runs Conceded</th>\n",
              "      <th>Innings Wickets Taken</th>\n",
              "      <th>4 Wickets</th>\n",
              "      <th>5 Wickets</th>\n",
              "      <th>10 Wickets</th>\n",
              "      <th>Innings Wickets Taken Buckets</th>\n",
              "      <th>Innings Economy Rate</th>\n",
              "    </tr>\n",
              "  </thead>\n",
              "  <tbody>\n",
              "    <tr>\n",
              "      <th>0</th>\n",
              "      <td>E Lewis</td>\n",
              "      <td>65</td>\n",
              "      <td>65</td>\n",
              "      <td>128</td>\n",
              "      <td>1.0</td>\n",
              "      <td>0.0</td>\n",
              "      <td>80</td>\n",
              "      <td>8</td>\n",
              "      <td>1</td>\n",
              "      <td>81.25</td>\n",
              "      <td>2</td>\n",
              "      <td>v India</td>\n",
              "      <td>Port of Spain</td>\n",
              "      <td>11-08-2019</td>\n",
              "      <td>West Indies</td>\n",
              "      <td>1.0</td>\n",
              "      <td>0.0</td>\n",
              "      <td>50-99</td>\n",
              "      <td>NaN</td>\n",
              "      <td>NaN</td>\n",
              "      <td>NaN</td>\n",
              "      <td>NaN</td>\n",
              "      <td>NaN</td>\n",
              "      <td>NaN</td>\n",
              "      <td>NaN</td>\n",
              "      <td>NaN</td>\n",
              "      <td>NaN</td>\n",
              "      <td>NaN</td>\n",
              "    </tr>\n",
              "    <tr>\n",
              "      <th>1</th>\n",
              "      <td>N Pooran</td>\n",
              "      <td>42</td>\n",
              "      <td>42</td>\n",
              "      <td>69</td>\n",
              "      <td>1.0</td>\n",
              "      <td>0.0</td>\n",
              "      <td>52</td>\n",
              "      <td>4</td>\n",
              "      <td>1</td>\n",
              "      <td>80.76</td>\n",
              "      <td>2</td>\n",
              "      <td>v India</td>\n",
              "      <td>Port of Spain</td>\n",
              "      <td>11-08-2019</td>\n",
              "      <td>West Indies</td>\n",
              "      <td>0.0</td>\n",
              "      <td>0.0</td>\n",
              "      <td>0-49</td>\n",
              "      <td>NaN</td>\n",
              "      <td>NaN</td>\n",
              "      <td>NaN</td>\n",
              "      <td>NaN</td>\n",
              "      <td>NaN</td>\n",
              "      <td>NaN</td>\n",
              "      <td>NaN</td>\n",
              "      <td>NaN</td>\n",
              "      <td>NaN</td>\n",
              "      <td>NaN</td>\n",
              "    </tr>\n",
              "  </tbody>\n",
              "</table>\n",
              "</div>\n",
              "      <button class=\"colab-df-convert\" onclick=\"convertToInteractive('df-ce231abf-71f3-4dfb-8efc-7d58b80f761e')\"\n",
              "              title=\"Convert this dataframe to an interactive table.\"\n",
              "              style=\"display:none;\">\n",
              "        \n",
              "  <svg xmlns=\"http://www.w3.org/2000/svg\" height=\"24px\"viewBox=\"0 0 24 24\"\n",
              "       width=\"24px\">\n",
              "    <path d=\"M0 0h24v24H0V0z\" fill=\"none\"/>\n",
              "    <path d=\"M18.56 5.44l.94 2.06.94-2.06 2.06-.94-2.06-.94-.94-2.06-.94 2.06-2.06.94zm-11 1L8.5 8.5l.94-2.06 2.06-.94-2.06-.94L8.5 2.5l-.94 2.06-2.06.94zm10 10l.94 2.06.94-2.06 2.06-.94-2.06-.94-.94-2.06-.94 2.06-2.06.94z\"/><path d=\"M17.41 7.96l-1.37-1.37c-.4-.4-.92-.59-1.43-.59-.52 0-1.04.2-1.43.59L10.3 9.45l-7.72 7.72c-.78.78-.78 2.05 0 2.83L4 21.41c.39.39.9.59 1.41.59.51 0 1.02-.2 1.41-.59l7.78-7.78 2.81-2.81c.8-.78.8-2.07 0-2.86zM5.41 20L4 18.59l7.72-7.72 1.47 1.35L5.41 20z\"/>\n",
              "  </svg>\n",
              "      </button>\n",
              "      \n",
              "  <style>\n",
              "    .colab-df-container {\n",
              "      display:flex;\n",
              "      flex-wrap:wrap;\n",
              "      gap: 12px;\n",
              "    }\n",
              "\n",
              "    .colab-df-convert {\n",
              "      background-color: #E8F0FE;\n",
              "      border: none;\n",
              "      border-radius: 50%;\n",
              "      cursor: pointer;\n",
              "      display: none;\n",
              "      fill: #1967D2;\n",
              "      height: 32px;\n",
              "      padding: 0 0 0 0;\n",
              "      width: 32px;\n",
              "    }\n",
              "\n",
              "    .colab-df-convert:hover {\n",
              "      background-color: #E2EBFA;\n",
              "      box-shadow: 0px 1px 2px rgba(60, 64, 67, 0.3), 0px 1px 3px 1px rgba(60, 64, 67, 0.15);\n",
              "      fill: #174EA6;\n",
              "    }\n",
              "\n",
              "    [theme=dark] .colab-df-convert {\n",
              "      background-color: #3B4455;\n",
              "      fill: #D2E3FC;\n",
              "    }\n",
              "\n",
              "    [theme=dark] .colab-df-convert:hover {\n",
              "      background-color: #434B5C;\n",
              "      box-shadow: 0px 1px 3px 1px rgba(0, 0, 0, 0.15);\n",
              "      filter: drop-shadow(0px 1px 2px rgba(0, 0, 0, 0.3));\n",
              "      fill: #FFFFFF;\n",
              "    }\n",
              "  </style>\n",
              "\n",
              "      <script>\n",
              "        const buttonEl =\n",
              "          document.querySelector('#df-ce231abf-71f3-4dfb-8efc-7d58b80f761e button.colab-df-convert');\n",
              "        buttonEl.style.display =\n",
              "          google.colab.kernel.accessAllowed ? 'block' : 'none';\n",
              "\n",
              "        async function convertToInteractive(key) {\n",
              "          const element = document.querySelector('#df-ce231abf-71f3-4dfb-8efc-7d58b80f761e');\n",
              "          const dataTable =\n",
              "            await google.colab.kernel.invokeFunction('convertToInteractive',\n",
              "                                                     [key], {});\n",
              "          if (!dataTable) return;\n",
              "\n",
              "          const docLinkHtml = 'Like what you see? Visit the ' +\n",
              "            '<a target=\"_blank\" href=https://colab.research.google.com/notebooks/data_table.ipynb>data table notebook</a>'\n",
              "            + ' to learn more about interactive tables.';\n",
              "          element.innerHTML = '';\n",
              "          dataTable['output_type'] = 'display_data';\n",
              "          await google.colab.output.renderOutput(dataTable, element);\n",
              "          const docLink = document.createElement('div');\n",
              "          docLink.innerHTML = docLinkHtml;\n",
              "          element.appendChild(docLink);\n",
              "        }\n",
              "      </script>\n",
              "    </div>\n",
              "  </div>\n",
              "  "
            ],
            "text/plain": [
              "  Innings Player Innings Runs Scored Innings Runs Scored Num Innings Minutes Batted  Innings Batted Flag  Innings Not Out Flag Innings Balls Faced Innings Boundary Fours Innings Boundary Sixes Innings Batting Strike Rate Innings Number Opposition         Ground Innings Date      Country  50's  100's Innings Runs Scored Buckets Innings Overs Bowled  Innings Bowled Flag Innings Maidens Bowled Innings Runs Conceded Innings Wickets Taken  4 Wickets  5 Wickets  10 Wickets Innings Wickets Taken Buckets Innings Economy Rate\n",
              "0  E Lewis        65                  65                      128                    1.0                  0.0                   80                  8                      1                      81.25                       2              v India    Port of Spain  11-08-2019   West Indies  1.0   0.0    50-99                       NaN                 NaN                   NaN                    NaN                   NaN                  NaN        NaN        NaN          NaN                           NaN                \n",
              "1  N Pooran       42                  42                      69                     1.0                  0.0                   52                  4                      1                      80.76                       2              v India    Port of Spain  11-08-2019   West Indies  0.0   0.0    0-49                        NaN                 NaN                   NaN                    NaN                   NaN                  NaN        NaN        NaN          NaN                           NaN                "
            ]
          },
          "metadata": {},
          "execution_count": 4
        }
      ]
    },
    {
      "cell_type": "code",
      "source": [
        "len(df)"
      ],
      "metadata": {
        "colab": {
          "base_uri": "https://localhost:8080/"
        },
        "id": "8ojL25QywxrY",
        "outputId": "adb88174-237f-4425-c22f-3fcc213d517b"
      },
      "execution_count": 5,
      "outputs": [
        {
          "output_type": "execute_result",
          "data": {
            "text/plain": [
              "171968"
            ]
          },
          "metadata": {},
          "execution_count": 5
        }
      ]
    },
    {
      "cell_type": "code",
      "source": [
        "# runs per innings\n",
        "#SR\n",
        "#100's\n",
        "#50's\n",
        "# team contribution\n"
      ],
      "metadata": {
        "id": "KdS8y2QnwyF4"
      },
      "execution_count": null,
      "outputs": []
    },
    {
      "cell_type": "markdown",
      "source": [
        "**Cleaning the Data** \n",
        "\n",
        "\n",
        "Clear all -, nan data"
      ],
      "metadata": {
        "id": "DuOz5qM91SB5"
      }
    },
    {
      "cell_type": "code",
      "source": [
        "df['Innings Runs Scored Num'].unique()"
      ],
      "metadata": {
        "colab": {
          "base_uri": "https://localhost:8080/"
        },
        "id": "5mSMjI-M1Mxz",
        "outputId": "aa3062d2-9252-423f-f6c3-5bd0f6ef5331"
      },
      "execution_count": 6,
      "outputs": [
        {
          "output_type": "execute_result",
          "data": {
            "text/plain": [
              "array(['65', '42', '18', '17', '13', '11', '5', '0', '120', '71', '20',\n",
              "       '16', '3', '2', '1', '-', nan, '40', '6', '4', '87', '54', '46',\n",
              "       '30', '12', '69', '39', '14', '10', '9', '8', '7', '82', '52',\n",
              "       '41', '15', '98', '43', '19', '111', '48', '36', '25', '67', '60',\n",
              "       '84', '59', '55', '47', '85', '49', '45', '34', '29', '22', '74',\n",
              "       '28', '77', '50', '32', '23', '35', '122', '100', '95', '103',\n",
              "       '113', '53', '96', '27', '64', '58', '33', '31', '73', '56', '86',\n",
              "       '62', '106', '24', '57', '104', '26', '66', '51', '118', '105',\n",
              "       '101', '21', '79', '44', '102', '88', '80', '72', '97', '68', '89',\n",
              "       '38', '83', '63', '148', '166', '90', '76', '37', '70', '124',\n",
              "       '94', '140', '153', '107', '117', '121', '92', '78', '75', '114',\n",
              "       '115', '130', '128', '151', '110', '138', '135', '109', '61',\n",
              "       '179', '170', '112', '116', '91', '143', '93', '123', '145', '81',\n",
              "       '150', '162', '108', '131', '133', '137', '146', '139', '125',\n",
              "       '129', '157', '152', '144', '99', '127', '210', '147', '126',\n",
              "       '181', '160', '180', '208', '176', '168', '141', '132', '119',\n",
              "       '154', '185', '134', '156', '164', '173', '178', '171', '149',\n",
              "       '237', '159', '161', '215', '264', '136', '169', '209', '174',\n",
              "       '189', '183', '163', '219', '158', '175', '177', '200', '194',\n",
              "       '142', '172', '186', '188', '167'], dtype=object)"
            ]
          },
          "metadata": {},
          "execution_count": 6
        }
      ]
    },
    {
      "cell_type": "code",
      "source": [
        "df=df[df['Innings Runs Scored Num']!= '-']"
      ],
      "metadata": {
        "id": "GIymniZm1NKI"
      },
      "execution_count": 7,
      "outputs": []
    },
    {
      "cell_type": "code",
      "source": [
        "df['Innings Runs Scored Num'].unique()"
      ],
      "metadata": {
        "colab": {
          "base_uri": "https://localhost:8080/"
        },
        "id": "KmCCaI281NU4",
        "outputId": "47976539-bae2-4e6a-bb59-182f163bab92"
      },
      "execution_count": 8,
      "outputs": [
        {
          "output_type": "execute_result",
          "data": {
            "text/plain": [
              "array(['65', '42', '18', '17', '13', '11', '5', '0', '120', '71', '20',\n",
              "       '16', '3', '2', '1', nan, '40', '6', '4', '87', '54', '46', '30',\n",
              "       '12', '69', '39', '14', '10', '9', '8', '7', '82', '52', '41',\n",
              "       '15', '98', '43', '19', '111', '48', '36', '25', '67', '60', '84',\n",
              "       '59', '55', '47', '85', '49', '45', '34', '29', '22', '74', '28',\n",
              "       '77', '50', '32', '23', '35', '122', '100', '95', '103', '113',\n",
              "       '53', '96', '27', '64', '58', '33', '31', '73', '56', '86', '62',\n",
              "       '106', '24', '57', '104', '26', '66', '51', '118', '105', '101',\n",
              "       '21', '79', '44', '102', '88', '80', '72', '97', '68', '89', '38',\n",
              "       '83', '63', '148', '166', '90', '76', '37', '70', '124', '94',\n",
              "       '140', '153', '107', '117', '121', '92', '78', '75', '114', '115',\n",
              "       '130', '128', '151', '110', '138', '135', '109', '61', '179',\n",
              "       '170', '112', '116', '91', '143', '93', '123', '145', '81', '150',\n",
              "       '162', '108', '131', '133', '137', '146', '139', '125', '129',\n",
              "       '157', '152', '144', '99', '127', '210', '147', '126', '181',\n",
              "       '160', '180', '208', '176', '168', '141', '132', '119', '154',\n",
              "       '185', '134', '156', '164', '173', '178', '171', '149', '237',\n",
              "       '159', '161', '215', '264', '136', '169', '209', '174', '189',\n",
              "       '183', '163', '219', '158', '175', '177', '200', '194', '142',\n",
              "       '172', '186', '188', '167'], dtype=object)"
            ]
          },
          "metadata": {},
          "execution_count": 8
        }
      ]
    },
    {
      "cell_type": "code",
      "source": [
        "df=df.dropna(subset= ['Innings Runs Scored Num'])"
      ],
      "metadata": {
        "id": "cTR5LpIJ1Nd0"
      },
      "execution_count": 9,
      "outputs": []
    },
    {
      "cell_type": "markdown",
      "source": [
        "**Convert innigs date into datetime format**\n",
        "\n",
        "To create a year column"
      ],
      "metadata": {
        "id": "k_7o2r1H2e-6"
      }
    },
    {
      "cell_type": "code",
      "source": [
        "df['Innings Date']=pd.to_datetime(df['Innings Date'])"
      ],
      "metadata": {
        "id": "kJcpgqWQ1Nk2"
      },
      "execution_count": 10,
      "outputs": []
    },
    {
      "cell_type": "code",
      "source": [
        "df['year']=df['Innings Date'].dt.year"
      ],
      "metadata": {
        "id": "cZ-AfsWN1Nr8"
      },
      "execution_count": 11,
      "outputs": []
    },
    {
      "cell_type": "code",
      "source": [
        "df.head()"
      ],
      "metadata": {
        "colab": {
          "base_uri": "https://localhost:8080/",
          "height": 409
        },
        "id": "bszxGtpx1Nyh",
        "outputId": "42dc21b3-1524-492e-9def-6b57b21e2088"
      },
      "execution_count": 12,
      "outputs": [
        {
          "output_type": "execute_result",
          "data": {
            "text/html": [
              "\n",
              "  <div id=\"df-09b6454b-8c77-4788-95dc-c512627951e2\">\n",
              "    <div class=\"colab-df-container\">\n",
              "      <div>\n",
              "<style scoped>\n",
              "    .dataframe tbody tr th:only-of-type {\n",
              "        vertical-align: middle;\n",
              "    }\n",
              "\n",
              "    .dataframe tbody tr th {\n",
              "        vertical-align: top;\n",
              "    }\n",
              "\n",
              "    .dataframe thead th {\n",
              "        text-align: right;\n",
              "    }\n",
              "</style>\n",
              "<table border=\"1\" class=\"dataframe\">\n",
              "  <thead>\n",
              "    <tr style=\"text-align: right;\">\n",
              "      <th></th>\n",
              "      <th>Innings Player</th>\n",
              "      <th>Innings Runs Scored</th>\n",
              "      <th>Innings Runs Scored Num</th>\n",
              "      <th>Innings Minutes Batted</th>\n",
              "      <th>Innings Batted Flag</th>\n",
              "      <th>Innings Not Out Flag</th>\n",
              "      <th>Innings Balls Faced</th>\n",
              "      <th>Innings Boundary Fours</th>\n",
              "      <th>Innings Boundary Sixes</th>\n",
              "      <th>Innings Batting Strike Rate</th>\n",
              "      <th>Innings Number</th>\n",
              "      <th>Opposition</th>\n",
              "      <th>Ground</th>\n",
              "      <th>Innings Date</th>\n",
              "      <th>Country</th>\n",
              "      <th>50's</th>\n",
              "      <th>100's</th>\n",
              "      <th>Innings Runs Scored Buckets</th>\n",
              "      <th>Innings Overs Bowled</th>\n",
              "      <th>Innings Bowled Flag</th>\n",
              "      <th>Innings Maidens Bowled</th>\n",
              "      <th>Innings Runs Conceded</th>\n",
              "      <th>Innings Wickets Taken</th>\n",
              "      <th>4 Wickets</th>\n",
              "      <th>5 Wickets</th>\n",
              "      <th>10 Wickets</th>\n",
              "      <th>Innings Wickets Taken Buckets</th>\n",
              "      <th>Innings Economy Rate</th>\n",
              "      <th>year</th>\n",
              "    </tr>\n",
              "  </thead>\n",
              "  <tbody>\n",
              "    <tr>\n",
              "      <th>0</th>\n",
              "      <td>E Lewis</td>\n",
              "      <td>65</td>\n",
              "      <td>65</td>\n",
              "      <td>128</td>\n",
              "      <td>1.0</td>\n",
              "      <td>0.0</td>\n",
              "      <td>80</td>\n",
              "      <td>8</td>\n",
              "      <td>1</td>\n",
              "      <td>81.25</td>\n",
              "      <td>2</td>\n",
              "      <td>v India</td>\n",
              "      <td>Port of Spain</td>\n",
              "      <td>2019-11-08</td>\n",
              "      <td>West Indies</td>\n",
              "      <td>1.0</td>\n",
              "      <td>0.0</td>\n",
              "      <td>50-99</td>\n",
              "      <td>NaN</td>\n",
              "      <td>NaN</td>\n",
              "      <td>NaN</td>\n",
              "      <td>NaN</td>\n",
              "      <td>NaN</td>\n",
              "      <td>NaN</td>\n",
              "      <td>NaN</td>\n",
              "      <td>NaN</td>\n",
              "      <td>NaN</td>\n",
              "      <td>NaN</td>\n",
              "      <td>2019</td>\n",
              "    </tr>\n",
              "    <tr>\n",
              "      <th>1</th>\n",
              "      <td>N Pooran</td>\n",
              "      <td>42</td>\n",
              "      <td>42</td>\n",
              "      <td>69</td>\n",
              "      <td>1.0</td>\n",
              "      <td>0.0</td>\n",
              "      <td>52</td>\n",
              "      <td>4</td>\n",
              "      <td>1</td>\n",
              "      <td>80.76</td>\n",
              "      <td>2</td>\n",
              "      <td>v India</td>\n",
              "      <td>Port of Spain</td>\n",
              "      <td>2019-11-08</td>\n",
              "      <td>West Indies</td>\n",
              "      <td>0.0</td>\n",
              "      <td>0.0</td>\n",
              "      <td>0-49</td>\n",
              "      <td>NaN</td>\n",
              "      <td>NaN</td>\n",
              "      <td>NaN</td>\n",
              "      <td>NaN</td>\n",
              "      <td>NaN</td>\n",
              "      <td>NaN</td>\n",
              "      <td>NaN</td>\n",
              "      <td>NaN</td>\n",
              "      <td>NaN</td>\n",
              "      <td>NaN</td>\n",
              "      <td>2019</td>\n",
              "    </tr>\n",
              "    <tr>\n",
              "      <th>2</th>\n",
              "      <td>SO Hetmyer</td>\n",
              "      <td>18</td>\n",
              "      <td>18</td>\n",
              "      <td>31</td>\n",
              "      <td>1.0</td>\n",
              "      <td>0.0</td>\n",
              "      <td>20</td>\n",
              "      <td>2</td>\n",
              "      <td>0</td>\n",
              "      <td>90</td>\n",
              "      <td>2</td>\n",
              "      <td>v India</td>\n",
              "      <td>Port of Spain</td>\n",
              "      <td>2019-11-08</td>\n",
              "      <td>West Indies</td>\n",
              "      <td>0.0</td>\n",
              "      <td>0.0</td>\n",
              "      <td>0-49</td>\n",
              "      <td>NaN</td>\n",
              "      <td>NaN</td>\n",
              "      <td>NaN</td>\n",
              "      <td>NaN</td>\n",
              "      <td>NaN</td>\n",
              "      <td>NaN</td>\n",
              "      <td>NaN</td>\n",
              "      <td>NaN</td>\n",
              "      <td>NaN</td>\n",
              "      <td>NaN</td>\n",
              "      <td>2019</td>\n",
              "    </tr>\n",
              "    <tr>\n",
              "      <th>3</th>\n",
              "      <td>RL Chase</td>\n",
              "      <td>18</td>\n",
              "      <td>18</td>\n",
              "      <td>34</td>\n",
              "      <td>1.0</td>\n",
              "      <td>0.0</td>\n",
              "      <td>23</td>\n",
              "      <td>0</td>\n",
              "      <td>0</td>\n",
              "      <td>78.26</td>\n",
              "      <td>2</td>\n",
              "      <td>v India</td>\n",
              "      <td>Port of Spain</td>\n",
              "      <td>2019-11-08</td>\n",
              "      <td>West Indies</td>\n",
              "      <td>0.0</td>\n",
              "      <td>0.0</td>\n",
              "      <td>0-49</td>\n",
              "      <td>NaN</td>\n",
              "      <td>NaN</td>\n",
              "      <td>NaN</td>\n",
              "      <td>NaN</td>\n",
              "      <td>NaN</td>\n",
              "      <td>NaN</td>\n",
              "      <td>NaN</td>\n",
              "      <td>NaN</td>\n",
              "      <td>NaN</td>\n",
              "      <td>NaN</td>\n",
              "      <td>2019</td>\n",
              "    </tr>\n",
              "    <tr>\n",
              "      <th>4</th>\n",
              "      <td>SS Cottrell</td>\n",
              "      <td>17</td>\n",
              "      <td>17</td>\n",
              "      <td>23</td>\n",
              "      <td>1.0</td>\n",
              "      <td>0.0</td>\n",
              "      <td>18</td>\n",
              "      <td>2</td>\n",
              "      <td>1</td>\n",
              "      <td>94.44</td>\n",
              "      <td>2</td>\n",
              "      <td>v India</td>\n",
              "      <td>Port of Spain</td>\n",
              "      <td>2019-11-08</td>\n",
              "      <td>West Indies</td>\n",
              "      <td>0.0</td>\n",
              "      <td>0.0</td>\n",
              "      <td>0-49</td>\n",
              "      <td>NaN</td>\n",
              "      <td>NaN</td>\n",
              "      <td>NaN</td>\n",
              "      <td>NaN</td>\n",
              "      <td>NaN</td>\n",
              "      <td>NaN</td>\n",
              "      <td>NaN</td>\n",
              "      <td>NaN</td>\n",
              "      <td>NaN</td>\n",
              "      <td>NaN</td>\n",
              "      <td>2019</td>\n",
              "    </tr>\n",
              "  </tbody>\n",
              "</table>\n",
              "</div>\n",
              "      <button class=\"colab-df-convert\" onclick=\"convertToInteractive('df-09b6454b-8c77-4788-95dc-c512627951e2')\"\n",
              "              title=\"Convert this dataframe to an interactive table.\"\n",
              "              style=\"display:none;\">\n",
              "        \n",
              "  <svg xmlns=\"http://www.w3.org/2000/svg\" height=\"24px\"viewBox=\"0 0 24 24\"\n",
              "       width=\"24px\">\n",
              "    <path d=\"M0 0h24v24H0V0z\" fill=\"none\"/>\n",
              "    <path d=\"M18.56 5.44l.94 2.06.94-2.06 2.06-.94-2.06-.94-.94-2.06-.94 2.06-2.06.94zm-11 1L8.5 8.5l.94-2.06 2.06-.94-2.06-.94L8.5 2.5l-.94 2.06-2.06.94zm10 10l.94 2.06.94-2.06 2.06-.94-2.06-.94-.94-2.06-.94 2.06-2.06.94z\"/><path d=\"M17.41 7.96l-1.37-1.37c-.4-.4-.92-.59-1.43-.59-.52 0-1.04.2-1.43.59L10.3 9.45l-7.72 7.72c-.78.78-.78 2.05 0 2.83L4 21.41c.39.39.9.59 1.41.59.51 0 1.02-.2 1.41-.59l7.78-7.78 2.81-2.81c.8-.78.8-2.07 0-2.86zM5.41 20L4 18.59l7.72-7.72 1.47 1.35L5.41 20z\"/>\n",
              "  </svg>\n",
              "      </button>\n",
              "      \n",
              "  <style>\n",
              "    .colab-df-container {\n",
              "      display:flex;\n",
              "      flex-wrap:wrap;\n",
              "      gap: 12px;\n",
              "    }\n",
              "\n",
              "    .colab-df-convert {\n",
              "      background-color: #E8F0FE;\n",
              "      border: none;\n",
              "      border-radius: 50%;\n",
              "      cursor: pointer;\n",
              "      display: none;\n",
              "      fill: #1967D2;\n",
              "      height: 32px;\n",
              "      padding: 0 0 0 0;\n",
              "      width: 32px;\n",
              "    }\n",
              "\n",
              "    .colab-df-convert:hover {\n",
              "      background-color: #E2EBFA;\n",
              "      box-shadow: 0px 1px 2px rgba(60, 64, 67, 0.3), 0px 1px 3px 1px rgba(60, 64, 67, 0.15);\n",
              "      fill: #174EA6;\n",
              "    }\n",
              "\n",
              "    [theme=dark] .colab-df-convert {\n",
              "      background-color: #3B4455;\n",
              "      fill: #D2E3FC;\n",
              "    }\n",
              "\n",
              "    [theme=dark] .colab-df-convert:hover {\n",
              "      background-color: #434B5C;\n",
              "      box-shadow: 0px 1px 3px 1px rgba(0, 0, 0, 0.15);\n",
              "      filter: drop-shadow(0px 1px 2px rgba(0, 0, 0, 0.3));\n",
              "      fill: #FFFFFF;\n",
              "    }\n",
              "  </style>\n",
              "\n",
              "      <script>\n",
              "        const buttonEl =\n",
              "          document.querySelector('#df-09b6454b-8c77-4788-95dc-c512627951e2 button.colab-df-convert');\n",
              "        buttonEl.style.display =\n",
              "          google.colab.kernel.accessAllowed ? 'block' : 'none';\n",
              "\n",
              "        async function convertToInteractive(key) {\n",
              "          const element = document.querySelector('#df-09b6454b-8c77-4788-95dc-c512627951e2');\n",
              "          const dataTable =\n",
              "            await google.colab.kernel.invokeFunction('convertToInteractive',\n",
              "                                                     [key], {});\n",
              "          if (!dataTable) return;\n",
              "\n",
              "          const docLinkHtml = 'Like what you see? Visit the ' +\n",
              "            '<a target=\"_blank\" href=https://colab.research.google.com/notebooks/data_table.ipynb>data table notebook</a>'\n",
              "            + ' to learn more about interactive tables.';\n",
              "          element.innerHTML = '';\n",
              "          dataTable['output_type'] = 'display_data';\n",
              "          await google.colab.output.renderOutput(dataTable, element);\n",
              "          const docLink = document.createElement('div');\n",
              "          docLink.innerHTML = docLinkHtml;\n",
              "          element.appendChild(docLink);\n",
              "        }\n",
              "      </script>\n",
              "    </div>\n",
              "  </div>\n",
              "  "
            ],
            "text/plain": [
              "  Innings Player Innings Runs Scored Innings Runs Scored Num Innings Minutes Batted  Innings Batted Flag  Innings Not Out Flag Innings Balls Faced Innings Boundary Fours Innings Boundary Sixes Innings Batting Strike Rate Innings Number Opposition         Ground Innings Date      Country  50's  100's Innings Runs Scored Buckets Innings Overs Bowled  Innings Bowled Flag Innings Maidens Bowled Innings Runs Conceded Innings Wickets Taken  4 Wickets  5 Wickets  10 Wickets Innings Wickets Taken Buckets Innings Economy Rate  year\n",
              "0  E Lewis        65                  65                      128                    1.0                  0.0                   80                  8                      1                      81.25                       2              v India    Port of Spain 2019-11-08    West Indies  1.0   0.0    50-99                       NaN                 NaN                   NaN                    NaN                   NaN                  NaN        NaN        NaN          NaN                           NaN                  2019\n",
              "1  N Pooran       42                  42                      69                     1.0                  0.0                   52                  4                      1                      80.76                       2              v India    Port of Spain 2019-11-08    West Indies  0.0   0.0    0-49                        NaN                 NaN                   NaN                    NaN                   NaN                  NaN        NaN        NaN          NaN                           NaN                  2019\n",
              "2  SO Hetmyer     18                  18                      31                     1.0                  0.0                   20                  2                      0                      90                          2              v India    Port of Spain 2019-11-08    West Indies  0.0   0.0    0-49                        NaN                 NaN                   NaN                    NaN                   NaN                  NaN        NaN        NaN          NaN                           NaN                  2019\n",
              "3  RL Chase       18                  18                      34                     1.0                  0.0                   23                  0                      0                      78.26                       2              v India    Port of Spain 2019-11-08    West Indies  0.0   0.0    0-49                        NaN                 NaN                   NaN                    NaN                   NaN                  NaN        NaN        NaN          NaN                           NaN                  2019\n",
              "4  SS Cottrell    17                  17                      23                     1.0                  0.0                   18                  2                      1                      94.44                       2              v India    Port of Spain 2019-11-08    West Indies  0.0   0.0    0-49                        NaN                 NaN                   NaN                    NaN                   NaN                  NaN        NaN        NaN          NaN                           NaN                  2019"
            ]
          },
          "metadata": {},
          "execution_count": 12
        }
      ]
    },
    {
      "cell_type": "code",
      "source": [
        "df['Innings Runs Scored Num']=df['Innings Runs Scored Num'].astype('int')"
      ],
      "metadata": {
        "id": "tJxo3mNH1N4n"
      },
      "execution_count": 13,
      "outputs": []
    },
    {
      "cell_type": "code",
      "source": [
        "df['Innings Balls Faced']=df['Innings Balls Faced'].astype('int')"
      ],
      "metadata": {
        "id": "IYhrnX2tLPcm"
      },
      "execution_count": 14,
      "outputs": []
    },
    {
      "cell_type": "code",
      "source": [
        "df['Innings Not Out Flag']=df['Innings Not Out Flag'].astype('int')"
      ],
      "metadata": {
        "id": "knhwwwzLLnZj"
      },
      "execution_count": 15,
      "outputs": []
    },
    {
      "cell_type": "markdown",
      "source": [
        "**Partitioning the Data into Sachin's and Virat's**\n",
        "\n",
        "Sachin timeline is 1994 to 2004\n",
        "\n",
        "Virat's timeline is 2009-2019"
      ],
      "metadata": {
        "id": "wUs-RI_b3JHb"
      }
    },
    {
      "cell_type": "code",
      "source": [
        "sachin_df=df[(df.year>=1994) & (df.year<=2004)]"
      ],
      "metadata": {
        "id": "vGneFMfN1N-S"
      },
      "execution_count": 16,
      "outputs": []
    },
    {
      "cell_type": "code",
      "source": [
        "sachin_df.head()"
      ],
      "metadata": {
        "colab": {
          "base_uri": "https://localhost:8080/",
          "height": 409
        },
        "id": "3batLm5n1OJ7",
        "outputId": "c67e5aa7-3997-43c4-ab83-dd2d78ce3533"
      },
      "execution_count": 17,
      "outputs": [
        {
          "output_type": "execute_result",
          "data": {
            "text/html": [
              "\n",
              "  <div id=\"df-fe45ac66-4795-4fc6-9d8c-eee749875684\">\n",
              "    <div class=\"colab-df-container\">\n",
              "      <div>\n",
              "<style scoped>\n",
              "    .dataframe tbody tr th:only-of-type {\n",
              "        vertical-align: middle;\n",
              "    }\n",
              "\n",
              "    .dataframe tbody tr th {\n",
              "        vertical-align: top;\n",
              "    }\n",
              "\n",
              "    .dataframe thead th {\n",
              "        text-align: right;\n",
              "    }\n",
              "</style>\n",
              "<table border=\"1\" class=\"dataframe\">\n",
              "  <thead>\n",
              "    <tr style=\"text-align: right;\">\n",
              "      <th></th>\n",
              "      <th>Innings Player</th>\n",
              "      <th>Innings Runs Scored</th>\n",
              "      <th>Innings Runs Scored Num</th>\n",
              "      <th>Innings Minutes Batted</th>\n",
              "      <th>Innings Batted Flag</th>\n",
              "      <th>Innings Not Out Flag</th>\n",
              "      <th>Innings Balls Faced</th>\n",
              "      <th>Innings Boundary Fours</th>\n",
              "      <th>Innings Boundary Sixes</th>\n",
              "      <th>Innings Batting Strike Rate</th>\n",
              "      <th>Innings Number</th>\n",
              "      <th>Opposition</th>\n",
              "      <th>Ground</th>\n",
              "      <th>Innings Date</th>\n",
              "      <th>Country</th>\n",
              "      <th>50's</th>\n",
              "      <th>100's</th>\n",
              "      <th>Innings Runs Scored Buckets</th>\n",
              "      <th>Innings Overs Bowled</th>\n",
              "      <th>Innings Bowled Flag</th>\n",
              "      <th>Innings Maidens Bowled</th>\n",
              "      <th>Innings Runs Conceded</th>\n",
              "      <th>Innings Wickets Taken</th>\n",
              "      <th>4 Wickets</th>\n",
              "      <th>5 Wickets</th>\n",
              "      <th>10 Wickets</th>\n",
              "      <th>Innings Wickets Taken Buckets</th>\n",
              "      <th>Innings Economy Rate</th>\n",
              "      <th>year</th>\n",
              "    </tr>\n",
              "  </thead>\n",
              "  <tbody>\n",
              "    <tr>\n",
              "      <th>77610</th>\n",
              "      <td>V Sehwag</td>\n",
              "      <td>70</td>\n",
              "      <td>70</td>\n",
              "      <td>85</td>\n",
              "      <td>1.0</td>\n",
              "      <td>0</td>\n",
              "      <td>52</td>\n",
              "      <td>9</td>\n",
              "      <td>2</td>\n",
              "      <td>134.61</td>\n",
              "      <td>1</td>\n",
              "      <td>v Bangladesh</td>\n",
              "      <td>Dhaka</td>\n",
              "      <td>2004-12-27</td>\n",
              "      <td>India</td>\n",
              "      <td>1.0</td>\n",
              "      <td>0.0</td>\n",
              "      <td>50-99</td>\n",
              "      <td>NaN</td>\n",
              "      <td>NaN</td>\n",
              "      <td>NaN</td>\n",
              "      <td>NaN</td>\n",
              "      <td>NaN</td>\n",
              "      <td>NaN</td>\n",
              "      <td>NaN</td>\n",
              "      <td>NaN</td>\n",
              "      <td>NaN</td>\n",
              "      <td>NaN</td>\n",
              "      <td>2004</td>\n",
              "    </tr>\n",
              "    <tr>\n",
              "      <th>77611</th>\n",
              "      <td>Yuvraj Singh</td>\n",
              "      <td>69</td>\n",
              "      <td>69</td>\n",
              "      <td>34</td>\n",
              "      <td>1.0</td>\n",
              "      <td>0</td>\n",
              "      <td>32</td>\n",
              "      <td>8</td>\n",
              "      <td>3</td>\n",
              "      <td>215.62</td>\n",
              "      <td>1</td>\n",
              "      <td>v Bangladesh</td>\n",
              "      <td>Dhaka</td>\n",
              "      <td>2004-12-27</td>\n",
              "      <td>India</td>\n",
              "      <td>1.0</td>\n",
              "      <td>0.0</td>\n",
              "      <td>50-99</td>\n",
              "      <td>NaN</td>\n",
              "      <td>NaN</td>\n",
              "      <td>NaN</td>\n",
              "      <td>NaN</td>\n",
              "      <td>NaN</td>\n",
              "      <td>NaN</td>\n",
              "      <td>NaN</td>\n",
              "      <td>NaN</td>\n",
              "      <td>NaN</td>\n",
              "      <td>NaN</td>\n",
              "      <td>2004</td>\n",
              "    </tr>\n",
              "    <tr>\n",
              "      <th>77612</th>\n",
              "      <td>R Dravid</td>\n",
              "      <td>60</td>\n",
              "      <td>60</td>\n",
              "      <td>87</td>\n",
              "      <td>1.0</td>\n",
              "      <td>0</td>\n",
              "      <td>68</td>\n",
              "      <td>5</td>\n",
              "      <td>0</td>\n",
              "      <td>88.23</td>\n",
              "      <td>1</td>\n",
              "      <td>v Bangladesh</td>\n",
              "      <td>Dhaka</td>\n",
              "      <td>2004-12-27</td>\n",
              "      <td>India</td>\n",
              "      <td>1.0</td>\n",
              "      <td>0.0</td>\n",
              "      <td>50-99</td>\n",
              "      <td>NaN</td>\n",
              "      <td>NaN</td>\n",
              "      <td>NaN</td>\n",
              "      <td>NaN</td>\n",
              "      <td>NaN</td>\n",
              "      <td>NaN</td>\n",
              "      <td>NaN</td>\n",
              "      <td>NaN</td>\n",
              "      <td>NaN</td>\n",
              "      <td>NaN</td>\n",
              "      <td>2004</td>\n",
              "    </tr>\n",
              "    <tr>\n",
              "      <th>77613</th>\n",
              "      <td>SC Ganguly</td>\n",
              "      <td>55</td>\n",
              "      <td>55</td>\n",
              "      <td>98</td>\n",
              "      <td>1.0</td>\n",
              "      <td>0</td>\n",
              "      <td>80</td>\n",
              "      <td>2</td>\n",
              "      <td>2</td>\n",
              "      <td>68.75</td>\n",
              "      <td>1</td>\n",
              "      <td>v Bangladesh</td>\n",
              "      <td>Dhaka</td>\n",
              "      <td>2004-12-27</td>\n",
              "      <td>India</td>\n",
              "      <td>1.0</td>\n",
              "      <td>0.0</td>\n",
              "      <td>50-99</td>\n",
              "      <td>NaN</td>\n",
              "      <td>NaN</td>\n",
              "      <td>NaN</td>\n",
              "      <td>NaN</td>\n",
              "      <td>NaN</td>\n",
              "      <td>NaN</td>\n",
              "      <td>NaN</td>\n",
              "      <td>NaN</td>\n",
              "      <td>NaN</td>\n",
              "      <td>NaN</td>\n",
              "      <td>2004</td>\n",
              "    </tr>\n",
              "    <tr>\n",
              "      <th>77614</th>\n",
              "      <td>SR Tendulkar</td>\n",
              "      <td>47</td>\n",
              "      <td>47</td>\n",
              "      <td>60</td>\n",
              "      <td>1.0</td>\n",
              "      <td>0</td>\n",
              "      <td>42</td>\n",
              "      <td>9</td>\n",
              "      <td>0</td>\n",
              "      <td>111.9</td>\n",
              "      <td>1</td>\n",
              "      <td>v Bangladesh</td>\n",
              "      <td>Dhaka</td>\n",
              "      <td>2004-12-27</td>\n",
              "      <td>India</td>\n",
              "      <td>0.0</td>\n",
              "      <td>0.0</td>\n",
              "      <td>0-49</td>\n",
              "      <td>NaN</td>\n",
              "      <td>NaN</td>\n",
              "      <td>NaN</td>\n",
              "      <td>NaN</td>\n",
              "      <td>NaN</td>\n",
              "      <td>NaN</td>\n",
              "      <td>NaN</td>\n",
              "      <td>NaN</td>\n",
              "      <td>NaN</td>\n",
              "      <td>NaN</td>\n",
              "      <td>2004</td>\n",
              "    </tr>\n",
              "  </tbody>\n",
              "</table>\n",
              "</div>\n",
              "      <button class=\"colab-df-convert\" onclick=\"convertToInteractive('df-fe45ac66-4795-4fc6-9d8c-eee749875684')\"\n",
              "              title=\"Convert this dataframe to an interactive table.\"\n",
              "              style=\"display:none;\">\n",
              "        \n",
              "  <svg xmlns=\"http://www.w3.org/2000/svg\" height=\"24px\"viewBox=\"0 0 24 24\"\n",
              "       width=\"24px\">\n",
              "    <path d=\"M0 0h24v24H0V0z\" fill=\"none\"/>\n",
              "    <path d=\"M18.56 5.44l.94 2.06.94-2.06 2.06-.94-2.06-.94-.94-2.06-.94 2.06-2.06.94zm-11 1L8.5 8.5l.94-2.06 2.06-.94-2.06-.94L8.5 2.5l-.94 2.06-2.06.94zm10 10l.94 2.06.94-2.06 2.06-.94-2.06-.94-.94-2.06-.94 2.06-2.06.94z\"/><path d=\"M17.41 7.96l-1.37-1.37c-.4-.4-.92-.59-1.43-.59-.52 0-1.04.2-1.43.59L10.3 9.45l-7.72 7.72c-.78.78-.78 2.05 0 2.83L4 21.41c.39.39.9.59 1.41.59.51 0 1.02-.2 1.41-.59l7.78-7.78 2.81-2.81c.8-.78.8-2.07 0-2.86zM5.41 20L4 18.59l7.72-7.72 1.47 1.35L5.41 20z\"/>\n",
              "  </svg>\n",
              "      </button>\n",
              "      \n",
              "  <style>\n",
              "    .colab-df-container {\n",
              "      display:flex;\n",
              "      flex-wrap:wrap;\n",
              "      gap: 12px;\n",
              "    }\n",
              "\n",
              "    .colab-df-convert {\n",
              "      background-color: #E8F0FE;\n",
              "      border: none;\n",
              "      border-radius: 50%;\n",
              "      cursor: pointer;\n",
              "      display: none;\n",
              "      fill: #1967D2;\n",
              "      height: 32px;\n",
              "      padding: 0 0 0 0;\n",
              "      width: 32px;\n",
              "    }\n",
              "\n",
              "    .colab-df-convert:hover {\n",
              "      background-color: #E2EBFA;\n",
              "      box-shadow: 0px 1px 2px rgba(60, 64, 67, 0.3), 0px 1px 3px 1px rgba(60, 64, 67, 0.15);\n",
              "      fill: #174EA6;\n",
              "    }\n",
              "\n",
              "    [theme=dark] .colab-df-convert {\n",
              "      background-color: #3B4455;\n",
              "      fill: #D2E3FC;\n",
              "    }\n",
              "\n",
              "    [theme=dark] .colab-df-convert:hover {\n",
              "      background-color: #434B5C;\n",
              "      box-shadow: 0px 1px 3px 1px rgba(0, 0, 0, 0.15);\n",
              "      filter: drop-shadow(0px 1px 2px rgba(0, 0, 0, 0.3));\n",
              "      fill: #FFFFFF;\n",
              "    }\n",
              "  </style>\n",
              "\n",
              "      <script>\n",
              "        const buttonEl =\n",
              "          document.querySelector('#df-fe45ac66-4795-4fc6-9d8c-eee749875684 button.colab-df-convert');\n",
              "        buttonEl.style.display =\n",
              "          google.colab.kernel.accessAllowed ? 'block' : 'none';\n",
              "\n",
              "        async function convertToInteractive(key) {\n",
              "          const element = document.querySelector('#df-fe45ac66-4795-4fc6-9d8c-eee749875684');\n",
              "          const dataTable =\n",
              "            await google.colab.kernel.invokeFunction('convertToInteractive',\n",
              "                                                     [key], {});\n",
              "          if (!dataTable) return;\n",
              "\n",
              "          const docLinkHtml = 'Like what you see? Visit the ' +\n",
              "            '<a target=\"_blank\" href=https://colab.research.google.com/notebooks/data_table.ipynb>data table notebook</a>'\n",
              "            + ' to learn more about interactive tables.';\n",
              "          element.innerHTML = '';\n",
              "          dataTable['output_type'] = 'display_data';\n",
              "          await google.colab.output.renderOutput(dataTable, element);\n",
              "          const docLink = document.createElement('div');\n",
              "          docLink.innerHTML = docLinkHtml;\n",
              "          element.appendChild(docLink);\n",
              "        }\n",
              "      </script>\n",
              "    </div>\n",
              "  </div>\n",
              "  "
            ],
            "text/plain": [
              "      Innings Player Innings Runs Scored  Innings Runs Scored Num Innings Minutes Batted  Innings Batted Flag  Innings Not Out Flag  Innings Balls Faced Innings Boundary Fours Innings Boundary Sixes Innings Batting Strike Rate Innings Number    Opposition Ground Innings Date Country  50's  100's Innings Runs Scored Buckets Innings Overs Bowled  Innings Bowled Flag Innings Maidens Bowled Innings Runs Conceded Innings Wickets Taken  4 Wickets  5 Wickets  10 Wickets Innings Wickets Taken Buckets Innings Economy Rate  year\n",
              "77610  V Sehwag       70                  70                       85                     1.0                  0                     52                   9                      2                      134.61                      1              v Bangladesh  Dhaka 2004-12-27    India   1.0   0.0    50-99                       NaN                 NaN                   NaN                    NaN                   NaN                  NaN        NaN        NaN          NaN                           NaN                  2004\n",
              "77611  Yuvraj Singh   69                  69                       34                     1.0                  0                     32                   8                      3                      215.62                      1              v Bangladesh  Dhaka 2004-12-27    India   1.0   0.0    50-99                       NaN                 NaN                   NaN                    NaN                   NaN                  NaN        NaN        NaN          NaN                           NaN                  2004\n",
              "77612  R Dravid       60                  60                       87                     1.0                  0                     68                   5                      0                      88.23                       1              v Bangladesh  Dhaka 2004-12-27    India   1.0   0.0    50-99                       NaN                 NaN                   NaN                    NaN                   NaN                  NaN        NaN        NaN          NaN                           NaN                  2004\n",
              "77613  SC Ganguly     55                  55                       98                     1.0                  0                     80                   2                      2                      68.75                       1              v Bangladesh  Dhaka 2004-12-27    India   1.0   0.0    50-99                       NaN                 NaN                   NaN                    NaN                   NaN                  NaN        NaN        NaN          NaN                           NaN                  2004\n",
              "77614  SR Tendulkar   47                  47                       60                     1.0                  0                     42                   9                      0                      111.9                       1              v Bangladesh  Dhaka 2004-12-27    India   0.0   0.0    0-49                        NaN                 NaN                   NaN                    NaN                   NaN                  NaN        NaN        NaN          NaN                           NaN                  2004"
            ]
          },
          "metadata": {},
          "execution_count": 17
        }
      ]
    },
    {
      "cell_type": "code",
      "source": [
        "virat_df=df[(df.year>=2009) & (df.year<=2019)]"
      ],
      "metadata": {
        "id": "W8_YjiIn3kEL"
      },
      "execution_count": 23,
      "outputs": []
    },
    {
      "cell_type": "code",
      "source": [
        "virat_df.head(5)"
      ],
      "metadata": {
        "id": "dhew9csX3wHb",
        "outputId": "3e96cb48-c39b-43a4-ff87-6bdcae5860ed",
        "colab": {
          "base_uri": "https://localhost:8080/",
          "height": 409
        }
      },
      "execution_count": 24,
      "outputs": [
        {
          "output_type": "execute_result",
          "data": {
            "text/html": [
              "\n",
              "  <div id=\"df-f32a2c3b-2add-487c-af9e-7f8f858d92b0\">\n",
              "    <div class=\"colab-df-container\">\n",
              "      <div>\n",
              "<style scoped>\n",
              "    .dataframe tbody tr th:only-of-type {\n",
              "        vertical-align: middle;\n",
              "    }\n",
              "\n",
              "    .dataframe tbody tr th {\n",
              "        vertical-align: top;\n",
              "    }\n",
              "\n",
              "    .dataframe thead th {\n",
              "        text-align: right;\n",
              "    }\n",
              "</style>\n",
              "<table border=\"1\" class=\"dataframe\">\n",
              "  <thead>\n",
              "    <tr style=\"text-align: right;\">\n",
              "      <th></th>\n",
              "      <th>Innings Player</th>\n",
              "      <th>Innings Runs Scored</th>\n",
              "      <th>Innings Runs Scored Num</th>\n",
              "      <th>Innings Minutes Batted</th>\n",
              "      <th>Innings Batted Flag</th>\n",
              "      <th>Innings Not Out Flag</th>\n",
              "      <th>Innings Balls Faced</th>\n",
              "      <th>Innings Boundary Fours</th>\n",
              "      <th>Innings Boundary Sixes</th>\n",
              "      <th>Innings Batting Strike Rate</th>\n",
              "      <th>Innings Number</th>\n",
              "      <th>Opposition</th>\n",
              "      <th>Ground</th>\n",
              "      <th>Innings Date</th>\n",
              "      <th>Country</th>\n",
              "      <th>50's</th>\n",
              "      <th>100's</th>\n",
              "      <th>Innings Runs Scored Buckets</th>\n",
              "      <th>Innings Overs Bowled</th>\n",
              "      <th>Innings Bowled Flag</th>\n",
              "      <th>Innings Maidens Bowled</th>\n",
              "      <th>Innings Runs Conceded</th>\n",
              "      <th>Innings Wickets Taken</th>\n",
              "      <th>4 Wickets</th>\n",
              "      <th>5 Wickets</th>\n",
              "      <th>10 Wickets</th>\n",
              "      <th>Innings Wickets Taken Buckets</th>\n",
              "      <th>Innings Economy Rate</th>\n",
              "      <th>year</th>\n",
              "    </tr>\n",
              "  </thead>\n",
              "  <tbody>\n",
              "    <tr>\n",
              "      <th>0</th>\n",
              "      <td>E Lewis</td>\n",
              "      <td>65</td>\n",
              "      <td>65</td>\n",
              "      <td>128</td>\n",
              "      <td>1.0</td>\n",
              "      <td>0</td>\n",
              "      <td>80</td>\n",
              "      <td>8</td>\n",
              "      <td>1</td>\n",
              "      <td>81.25</td>\n",
              "      <td>2</td>\n",
              "      <td>v India</td>\n",
              "      <td>Port of Spain</td>\n",
              "      <td>2019-11-08</td>\n",
              "      <td>West Indies</td>\n",
              "      <td>1.0</td>\n",
              "      <td>0.0</td>\n",
              "      <td>50-99</td>\n",
              "      <td>NaN</td>\n",
              "      <td>NaN</td>\n",
              "      <td>NaN</td>\n",
              "      <td>NaN</td>\n",
              "      <td>NaN</td>\n",
              "      <td>NaN</td>\n",
              "      <td>NaN</td>\n",
              "      <td>NaN</td>\n",
              "      <td>NaN</td>\n",
              "      <td>NaN</td>\n",
              "      <td>2019</td>\n",
              "    </tr>\n",
              "    <tr>\n",
              "      <th>1</th>\n",
              "      <td>N Pooran</td>\n",
              "      <td>42</td>\n",
              "      <td>42</td>\n",
              "      <td>69</td>\n",
              "      <td>1.0</td>\n",
              "      <td>0</td>\n",
              "      <td>52</td>\n",
              "      <td>4</td>\n",
              "      <td>1</td>\n",
              "      <td>80.76</td>\n",
              "      <td>2</td>\n",
              "      <td>v India</td>\n",
              "      <td>Port of Spain</td>\n",
              "      <td>2019-11-08</td>\n",
              "      <td>West Indies</td>\n",
              "      <td>0.0</td>\n",
              "      <td>0.0</td>\n",
              "      <td>0-49</td>\n",
              "      <td>NaN</td>\n",
              "      <td>NaN</td>\n",
              "      <td>NaN</td>\n",
              "      <td>NaN</td>\n",
              "      <td>NaN</td>\n",
              "      <td>NaN</td>\n",
              "      <td>NaN</td>\n",
              "      <td>NaN</td>\n",
              "      <td>NaN</td>\n",
              "      <td>NaN</td>\n",
              "      <td>2019</td>\n",
              "    </tr>\n",
              "    <tr>\n",
              "      <th>2</th>\n",
              "      <td>SO Hetmyer</td>\n",
              "      <td>18</td>\n",
              "      <td>18</td>\n",
              "      <td>31</td>\n",
              "      <td>1.0</td>\n",
              "      <td>0</td>\n",
              "      <td>20</td>\n",
              "      <td>2</td>\n",
              "      <td>0</td>\n",
              "      <td>90</td>\n",
              "      <td>2</td>\n",
              "      <td>v India</td>\n",
              "      <td>Port of Spain</td>\n",
              "      <td>2019-11-08</td>\n",
              "      <td>West Indies</td>\n",
              "      <td>0.0</td>\n",
              "      <td>0.0</td>\n",
              "      <td>0-49</td>\n",
              "      <td>NaN</td>\n",
              "      <td>NaN</td>\n",
              "      <td>NaN</td>\n",
              "      <td>NaN</td>\n",
              "      <td>NaN</td>\n",
              "      <td>NaN</td>\n",
              "      <td>NaN</td>\n",
              "      <td>NaN</td>\n",
              "      <td>NaN</td>\n",
              "      <td>NaN</td>\n",
              "      <td>2019</td>\n",
              "    </tr>\n",
              "    <tr>\n",
              "      <th>3</th>\n",
              "      <td>RL Chase</td>\n",
              "      <td>18</td>\n",
              "      <td>18</td>\n",
              "      <td>34</td>\n",
              "      <td>1.0</td>\n",
              "      <td>0</td>\n",
              "      <td>23</td>\n",
              "      <td>0</td>\n",
              "      <td>0</td>\n",
              "      <td>78.26</td>\n",
              "      <td>2</td>\n",
              "      <td>v India</td>\n",
              "      <td>Port of Spain</td>\n",
              "      <td>2019-11-08</td>\n",
              "      <td>West Indies</td>\n",
              "      <td>0.0</td>\n",
              "      <td>0.0</td>\n",
              "      <td>0-49</td>\n",
              "      <td>NaN</td>\n",
              "      <td>NaN</td>\n",
              "      <td>NaN</td>\n",
              "      <td>NaN</td>\n",
              "      <td>NaN</td>\n",
              "      <td>NaN</td>\n",
              "      <td>NaN</td>\n",
              "      <td>NaN</td>\n",
              "      <td>NaN</td>\n",
              "      <td>NaN</td>\n",
              "      <td>2019</td>\n",
              "    </tr>\n",
              "    <tr>\n",
              "      <th>4</th>\n",
              "      <td>SS Cottrell</td>\n",
              "      <td>17</td>\n",
              "      <td>17</td>\n",
              "      <td>23</td>\n",
              "      <td>1.0</td>\n",
              "      <td>0</td>\n",
              "      <td>18</td>\n",
              "      <td>2</td>\n",
              "      <td>1</td>\n",
              "      <td>94.44</td>\n",
              "      <td>2</td>\n",
              "      <td>v India</td>\n",
              "      <td>Port of Spain</td>\n",
              "      <td>2019-11-08</td>\n",
              "      <td>West Indies</td>\n",
              "      <td>0.0</td>\n",
              "      <td>0.0</td>\n",
              "      <td>0-49</td>\n",
              "      <td>NaN</td>\n",
              "      <td>NaN</td>\n",
              "      <td>NaN</td>\n",
              "      <td>NaN</td>\n",
              "      <td>NaN</td>\n",
              "      <td>NaN</td>\n",
              "      <td>NaN</td>\n",
              "      <td>NaN</td>\n",
              "      <td>NaN</td>\n",
              "      <td>NaN</td>\n",
              "      <td>2019</td>\n",
              "    </tr>\n",
              "  </tbody>\n",
              "</table>\n",
              "</div>\n",
              "      <button class=\"colab-df-convert\" onclick=\"convertToInteractive('df-f32a2c3b-2add-487c-af9e-7f8f858d92b0')\"\n",
              "              title=\"Convert this dataframe to an interactive table.\"\n",
              "              style=\"display:none;\">\n",
              "        \n",
              "  <svg xmlns=\"http://www.w3.org/2000/svg\" height=\"24px\"viewBox=\"0 0 24 24\"\n",
              "       width=\"24px\">\n",
              "    <path d=\"M0 0h24v24H0V0z\" fill=\"none\"/>\n",
              "    <path d=\"M18.56 5.44l.94 2.06.94-2.06 2.06-.94-2.06-.94-.94-2.06-.94 2.06-2.06.94zm-11 1L8.5 8.5l.94-2.06 2.06-.94-2.06-.94L8.5 2.5l-.94 2.06-2.06.94zm10 10l.94 2.06.94-2.06 2.06-.94-2.06-.94-.94-2.06-.94 2.06-2.06.94z\"/><path d=\"M17.41 7.96l-1.37-1.37c-.4-.4-.92-.59-1.43-.59-.52 0-1.04.2-1.43.59L10.3 9.45l-7.72 7.72c-.78.78-.78 2.05 0 2.83L4 21.41c.39.39.9.59 1.41.59.51 0 1.02-.2 1.41-.59l7.78-7.78 2.81-2.81c.8-.78.8-2.07 0-2.86zM5.41 20L4 18.59l7.72-7.72 1.47 1.35L5.41 20z\"/>\n",
              "  </svg>\n",
              "      </button>\n",
              "      \n",
              "  <style>\n",
              "    .colab-df-container {\n",
              "      display:flex;\n",
              "      flex-wrap:wrap;\n",
              "      gap: 12px;\n",
              "    }\n",
              "\n",
              "    .colab-df-convert {\n",
              "      background-color: #E8F0FE;\n",
              "      border: none;\n",
              "      border-radius: 50%;\n",
              "      cursor: pointer;\n",
              "      display: none;\n",
              "      fill: #1967D2;\n",
              "      height: 32px;\n",
              "      padding: 0 0 0 0;\n",
              "      width: 32px;\n",
              "    }\n",
              "\n",
              "    .colab-df-convert:hover {\n",
              "      background-color: #E2EBFA;\n",
              "      box-shadow: 0px 1px 2px rgba(60, 64, 67, 0.3), 0px 1px 3px 1px rgba(60, 64, 67, 0.15);\n",
              "      fill: #174EA6;\n",
              "    }\n",
              "\n",
              "    [theme=dark] .colab-df-convert {\n",
              "      background-color: #3B4455;\n",
              "      fill: #D2E3FC;\n",
              "    }\n",
              "\n",
              "    [theme=dark] .colab-df-convert:hover {\n",
              "      background-color: #434B5C;\n",
              "      box-shadow: 0px 1px 3px 1px rgba(0, 0, 0, 0.15);\n",
              "      filter: drop-shadow(0px 1px 2px rgba(0, 0, 0, 0.3));\n",
              "      fill: #FFFFFF;\n",
              "    }\n",
              "  </style>\n",
              "\n",
              "      <script>\n",
              "        const buttonEl =\n",
              "          document.querySelector('#df-f32a2c3b-2add-487c-af9e-7f8f858d92b0 button.colab-df-convert');\n",
              "        buttonEl.style.display =\n",
              "          google.colab.kernel.accessAllowed ? 'block' : 'none';\n",
              "\n",
              "        async function convertToInteractive(key) {\n",
              "          const element = document.querySelector('#df-f32a2c3b-2add-487c-af9e-7f8f858d92b0');\n",
              "          const dataTable =\n",
              "            await google.colab.kernel.invokeFunction('convertToInteractive',\n",
              "                                                     [key], {});\n",
              "          if (!dataTable) return;\n",
              "\n",
              "          const docLinkHtml = 'Like what you see? Visit the ' +\n",
              "            '<a target=\"_blank\" href=https://colab.research.google.com/notebooks/data_table.ipynb>data table notebook</a>'\n",
              "            + ' to learn more about interactive tables.';\n",
              "          element.innerHTML = '';\n",
              "          dataTable['output_type'] = 'display_data';\n",
              "          await google.colab.output.renderOutput(dataTable, element);\n",
              "          const docLink = document.createElement('div');\n",
              "          docLink.innerHTML = docLinkHtml;\n",
              "          element.appendChild(docLink);\n",
              "        }\n",
              "      </script>\n",
              "    </div>\n",
              "  </div>\n",
              "  "
            ],
            "text/plain": [
              "  Innings Player Innings Runs Scored  Innings Runs Scored Num Innings Minutes Batted  Innings Batted Flag  Innings Not Out Flag  Innings Balls Faced Innings Boundary Fours Innings Boundary Sixes Innings Batting Strike Rate Innings Number Opposition         Ground Innings Date      Country  50's  100's Innings Runs Scored Buckets Innings Overs Bowled  Innings Bowled Flag Innings Maidens Bowled Innings Runs Conceded Innings Wickets Taken  4 Wickets  5 Wickets  10 Wickets Innings Wickets Taken Buckets Innings Economy Rate  year\n",
              "0  E Lewis        65                  65                       128                    1.0                  0                     80                   8                      1                      81.25                       2              v India    Port of Spain 2019-11-08    West Indies  1.0   0.0    50-99                       NaN                 NaN                   NaN                    NaN                   NaN                  NaN        NaN        NaN          NaN                           NaN                  2019\n",
              "1  N Pooran       42                  42                       69                     1.0                  0                     52                   4                      1                      80.76                       2              v India    Port of Spain 2019-11-08    West Indies  0.0   0.0    0-49                        NaN                 NaN                   NaN                    NaN                   NaN                  NaN        NaN        NaN          NaN                           NaN                  2019\n",
              "2  SO Hetmyer     18                  18                       31                     1.0                  0                     20                   2                      0                      90                          2              v India    Port of Spain 2019-11-08    West Indies  0.0   0.0    0-49                        NaN                 NaN                   NaN                    NaN                   NaN                  NaN        NaN        NaN          NaN                           NaN                  2019\n",
              "3  RL Chase       18                  18                       34                     1.0                  0                     23                   0                      0                      78.26                       2              v India    Port of Spain 2019-11-08    West Indies  0.0   0.0    0-49                        NaN                 NaN                   NaN                    NaN                   NaN                  NaN        NaN        NaN          NaN                           NaN                  2019\n",
              "4  SS Cottrell    17                  17                       23                     1.0                  0                     18                   2                      1                      94.44                       2              v India    Port of Spain 2019-11-08    West Indies  0.0   0.0    0-49                        NaN                 NaN                   NaN                    NaN                   NaN                  NaN        NaN        NaN          NaN                           NaN                  2019"
            ]
          },
          "metadata": {},
          "execution_count": 24
        }
      ]
    },
    {
      "cell_type": "code",
      "source": [
        "CompareData={'Name':None,'Total Score':None,'RPI': None, 'Strike Rate':None,'100\\'s': None, '50\\'s':None, 'Team Contribution':None  }"
      ],
      "metadata": {
        "id": "tDQlJVh83yuf"
      },
      "execution_count": 18,
      "outputs": []
    },
    {
      "cell_type": "code",
      "source": [
        "print(CompareData)"
      ],
      "metadata": {
        "colab": {
          "base_uri": "https://localhost:8080/"
        },
        "id": "OhzpNxy9Le2b",
        "outputId": "1ec82a4e-d924-4334-da2c-fcacc81c76ad"
      },
      "execution_count": 19,
      "outputs": [
        {
          "output_type": "stream",
          "name": "stdout",
          "text": [
            "{'Name': None, 'Total Score': None, 'RPI': None, 'Strike Rate': None, \"100's\": None, \"50's\": None, 'Team Contribution': None}\n"
          ]
        }
      ]
    },
    {
      "cell_type": "code",
      "source": [
        "CompareData['Name']=['Sachin','Virat']"
      ],
      "metadata": {
        "id": "mfQVNBHZQEDA"
      },
      "execution_count": 25,
      "outputs": []
    },
    {
      "cell_type": "markdown",
      "source": [
        "Creating datasets"
      ],
      "metadata": {
        "id": "-HxOd88IRXbl"
      }
    },
    {
      "cell_type": "code",
      "source": [
        "virat_df.dtypes"
      ],
      "metadata": {
        "id": "mFp5ojlJRUxl",
        "colab": {
          "base_uri": "https://localhost:8080/"
        },
        "outputId": "c46f1028-b805-4e6f-e309-f6fb5fef3901"
      },
      "execution_count": 26,
      "outputs": [
        {
          "output_type": "execute_result",
          "data": {
            "text/plain": [
              "Innings Player                   object        \n",
              "Innings Runs Scored              object        \n",
              "Innings Runs Scored Num          int64         \n",
              "Innings Minutes Batted           object        \n",
              "Innings Batted Flag              float64       \n",
              "Innings Not Out Flag             int64         \n",
              "Innings Balls Faced              int64         \n",
              "Innings Boundary Fours           object        \n",
              "Innings Boundary Sixes           object        \n",
              "Innings Batting Strike Rate      object        \n",
              "Innings Number                   object        \n",
              "Opposition                       object        \n",
              "Ground                           object        \n",
              "Innings Date                     datetime64[ns]\n",
              "Country                          object        \n",
              "50's                             float64       \n",
              "100's                            float64       \n",
              "Innings Runs Scored Buckets      object        \n",
              "Innings Overs Bowled             object        \n",
              "Innings Bowled Flag              float64       \n",
              "Innings Maidens Bowled           object        \n",
              "Innings Runs Conceded            object        \n",
              "Innings Wickets Taken            object        \n",
              "4 Wickets                        float64       \n",
              "5 Wickets                        float64       \n",
              "10 Wickets                       float64       \n",
              "Innings Wickets Taken Buckets    object        \n",
              "Innings Economy Rate             object        \n",
              "year                             int64         \n",
              "dtype: object"
            ]
          },
          "metadata": {},
          "execution_count": 26
        }
      ]
    },
    {
      "cell_type": "code",
      "source": [
        "sdf=sachin_df[sachin_df['Innings Player']=='SR Tendulkar']"
      ],
      "metadata": {
        "id": "NLMM3BQCRUvc"
      },
      "execution_count": 29,
      "outputs": []
    },
    {
      "cell_type": "code",
      "source": [
        "kdf=virat_df[virat_df['Innings Player']== 'V Kohli']"
      ],
      "metadata": {
        "id": "AVxP87iWRUsw"
      },
      "execution_count": 30,
      "outputs": []
    },
    {
      "cell_type": "code",
      "source": [
        "CompareData['Total Score']=[sum(sdf['Innings Runs Scored Num']),sum(kdf['Innings Runs Scored Num'])]"
      ],
      "metadata": {
        "id": "9S9qapZ6RUqc"
      },
      "execution_count": 33,
      "outputs": []
    },
    {
      "cell_type": "code",
      "source": [
        "CompareData['RPI']=[sum(sdf['Innings Runs Scored Num'])/len(sdf),sum(kdf['Innings Runs Scored Num'])/len(kdf)]"
      ],
      "metadata": {
        "id": "SCwrtqP-ZLnQ"
      },
      "execution_count": 36,
      "outputs": []
    },
    {
      "cell_type": "code",
      "source": [
        "CompareData['Strike Rate']=[100*sum(sdf['Innings Runs Scored Num'])/sum(sdf['Innings Balls Faced']),100*sum(kdf['Innings Runs Scored Num'])/sum(kdf['Innings Balls Faced'])]"
      ],
      "metadata": {
        "id": "yCX5ybLoZtFZ"
      },
      "execution_count": 42,
      "outputs": []
    },
    {
      "cell_type": "code",
      "source": [
        "CompareData['100\\'s']=[int(sum(sdf[\"100's\"])),int(sum(kdf[\"100's\"]))]"
      ],
      "metadata": {
        "id": "NCVsJBWTaSMK"
      },
      "execution_count": 53,
      "outputs": []
    },
    {
      "cell_type": "code",
      "source": [
        "CompareData['50\\'s']=[int(sum(sdf[\"50's\"])),int(sum(kdf[\"50's\"]))]"
      ],
      "metadata": {
        "id": "2Q3Fm0lXa09T"
      },
      "execution_count": 54,
      "outputs": []
    },
    {
      "cell_type": "code",
      "source": [
        "CompareData['Team Contribution']=[100*sum(sdf['Innings Runs Scored Num'])/sum(sachin_df[sachin_df.Country ==\"India\"]['Innings Runs Scored Num']), 100*sum(kdf['Innings Runs Scored Num'])/sum(virat_df[virat_df.Country ==\"India\"]['Innings Runs Scored Num'])]"
      ],
      "metadata": {
        "id": "Av-mG6fgcL8b"
      },
      "execution_count": 63,
      "outputs": []
    },
    {
      "cell_type": "code",
      "source": [
        "compare_df=pd.DataFrame(CompareData)"
      ],
      "metadata": {
        "id": "UGY3OunsRUn2"
      },
      "execution_count": 64,
      "outputs": []
    },
    {
      "cell_type": "code",
      "source": [
        "compare_df.head()"
      ],
      "metadata": {
        "id": "DrvyhOUeRUlc",
        "colab": {
          "base_uri": "https://localhost:8080/",
          "height": 112
        },
        "outputId": "7123a432-423b-4e27-8e58-4fa14e0a5a6a"
      },
      "execution_count": 65,
      "outputs": [
        {
          "output_type": "execute_result",
          "data": {
            "text/html": [
              "\n",
              "  <div id=\"df-34fe413a-eb5d-4b07-bdfa-9565cf19c6ff\">\n",
              "    <div class=\"colab-df-container\">\n",
              "      <div>\n",
              "<style scoped>\n",
              "    .dataframe tbody tr th:only-of-type {\n",
              "        vertical-align: middle;\n",
              "    }\n",
              "\n",
              "    .dataframe tbody tr th {\n",
              "        vertical-align: top;\n",
              "    }\n",
              "\n",
              "    .dataframe thead th {\n",
              "        text-align: right;\n",
              "    }\n",
              "</style>\n",
              "<table border=\"1\" class=\"dataframe\">\n",
              "  <thead>\n",
              "    <tr style=\"text-align: right;\">\n",
              "      <th></th>\n",
              "      <th>Name</th>\n",
              "      <th>Total Score</th>\n",
              "      <th>RPI</th>\n",
              "      <th>Strike Rate</th>\n",
              "      <th>100's</th>\n",
              "      <th>50's</th>\n",
              "      <th>Team Contribution</th>\n",
              "    </tr>\n",
              "  </thead>\n",
              "  <tbody>\n",
              "    <tr>\n",
              "      <th>0</th>\n",
              "      <td>Sachin</td>\n",
              "      <td>11818</td>\n",
              "      <td>43.608856</td>\n",
              "      <td>88.213779</td>\n",
              "      <td>37</td>\n",
              "      <td>57</td>\n",
              "      <td>16.951875</td>\n",
              "    </tr>\n",
              "    <tr>\n",
              "      <th>1</th>\n",
              "      <td>Virat</td>\n",
              "      <td>11247</td>\n",
              "      <td>50.209821</td>\n",
              "      <td>93.561268</td>\n",
              "      <td>42</td>\n",
              "      <td>53</td>\n",
              "      <td>17.610033</td>\n",
              "    </tr>\n",
              "  </tbody>\n",
              "</table>\n",
              "</div>\n",
              "      <button class=\"colab-df-convert\" onclick=\"convertToInteractive('df-34fe413a-eb5d-4b07-bdfa-9565cf19c6ff')\"\n",
              "              title=\"Convert this dataframe to an interactive table.\"\n",
              "              style=\"display:none;\">\n",
              "        \n",
              "  <svg xmlns=\"http://www.w3.org/2000/svg\" height=\"24px\"viewBox=\"0 0 24 24\"\n",
              "       width=\"24px\">\n",
              "    <path d=\"M0 0h24v24H0V0z\" fill=\"none\"/>\n",
              "    <path d=\"M18.56 5.44l.94 2.06.94-2.06 2.06-.94-2.06-.94-.94-2.06-.94 2.06-2.06.94zm-11 1L8.5 8.5l.94-2.06 2.06-.94-2.06-.94L8.5 2.5l-.94 2.06-2.06.94zm10 10l.94 2.06.94-2.06 2.06-.94-2.06-.94-.94-2.06-.94 2.06-2.06.94z\"/><path d=\"M17.41 7.96l-1.37-1.37c-.4-.4-.92-.59-1.43-.59-.52 0-1.04.2-1.43.59L10.3 9.45l-7.72 7.72c-.78.78-.78 2.05 0 2.83L4 21.41c.39.39.9.59 1.41.59.51 0 1.02-.2 1.41-.59l7.78-7.78 2.81-2.81c.8-.78.8-2.07 0-2.86zM5.41 20L4 18.59l7.72-7.72 1.47 1.35L5.41 20z\"/>\n",
              "  </svg>\n",
              "      </button>\n",
              "      \n",
              "  <style>\n",
              "    .colab-df-container {\n",
              "      display:flex;\n",
              "      flex-wrap:wrap;\n",
              "      gap: 12px;\n",
              "    }\n",
              "\n",
              "    .colab-df-convert {\n",
              "      background-color: #E8F0FE;\n",
              "      border: none;\n",
              "      border-radius: 50%;\n",
              "      cursor: pointer;\n",
              "      display: none;\n",
              "      fill: #1967D2;\n",
              "      height: 32px;\n",
              "      padding: 0 0 0 0;\n",
              "      width: 32px;\n",
              "    }\n",
              "\n",
              "    .colab-df-convert:hover {\n",
              "      background-color: #E2EBFA;\n",
              "      box-shadow: 0px 1px 2px rgba(60, 64, 67, 0.3), 0px 1px 3px 1px rgba(60, 64, 67, 0.15);\n",
              "      fill: #174EA6;\n",
              "    }\n",
              "\n",
              "    [theme=dark] .colab-df-convert {\n",
              "      background-color: #3B4455;\n",
              "      fill: #D2E3FC;\n",
              "    }\n",
              "\n",
              "    [theme=dark] .colab-df-convert:hover {\n",
              "      background-color: #434B5C;\n",
              "      box-shadow: 0px 1px 3px 1px rgba(0, 0, 0, 0.15);\n",
              "      filter: drop-shadow(0px 1px 2px rgba(0, 0, 0, 0.3));\n",
              "      fill: #FFFFFF;\n",
              "    }\n",
              "  </style>\n",
              "\n",
              "      <script>\n",
              "        const buttonEl =\n",
              "          document.querySelector('#df-34fe413a-eb5d-4b07-bdfa-9565cf19c6ff button.colab-df-convert');\n",
              "        buttonEl.style.display =\n",
              "          google.colab.kernel.accessAllowed ? 'block' : 'none';\n",
              "\n",
              "        async function convertToInteractive(key) {\n",
              "          const element = document.querySelector('#df-34fe413a-eb5d-4b07-bdfa-9565cf19c6ff');\n",
              "          const dataTable =\n",
              "            await google.colab.kernel.invokeFunction('convertToInteractive',\n",
              "                                                     [key], {});\n",
              "          if (!dataTable) return;\n",
              "\n",
              "          const docLinkHtml = 'Like what you see? Visit the ' +\n",
              "            '<a target=\"_blank\" href=https://colab.research.google.com/notebooks/data_table.ipynb>data table notebook</a>'\n",
              "            + ' to learn more about interactive tables.';\n",
              "          element.innerHTML = '';\n",
              "          dataTable['output_type'] = 'display_data';\n",
              "          await google.colab.output.renderOutput(dataTable, element);\n",
              "          const docLink = document.createElement('div');\n",
              "          docLink.innerHTML = docLinkHtml;\n",
              "          element.appendChild(docLink);\n",
              "        }\n",
              "      </script>\n",
              "    </div>\n",
              "  </div>\n",
              "  "
            ],
            "text/plain": [
              "     Name  Total Score        RPI  Strike Rate  100's  50's  Team Contribution\n",
              "0  Sachin  11818        43.608856  88.213779    37     57    16.951875        \n",
              "1  Virat   11247        50.209821  93.561268    42     53    17.610033        "
            ]
          },
          "metadata": {},
          "execution_count": 65
        }
      ]
    },
    {
      "cell_type": "code",
      "source": [
        ""
      ],
      "metadata": {
        "id": "qQRfZTr8RUis"
      },
      "execution_count": null,
      "outputs": []
    },
    {
      "cell_type": "code",
      "source": [
        ""
      ],
      "metadata": {
        "id": "-JE4aqXLRUbs"
      },
      "execution_count": null,
      "outputs": []
    },
    {
      "cell_type": "code",
      "source": [
        ""
      ],
      "metadata": {
        "id": "d6OVVbg-RUZo"
      },
      "execution_count": null,
      "outputs": []
    },
    {
      "cell_type": "code",
      "source": [
        ""
      ],
      "metadata": {
        "id": "B_s2fzBkRUXK"
      },
      "execution_count": null,
      "outputs": []
    },
    {
      "cell_type": "code",
      "source": [
        ""
      ],
      "metadata": {
        "id": "hr41nw56RUVD"
      },
      "execution_count": null,
      "outputs": []
    },
    {
      "cell_type": "code",
      "source": [
        ""
      ],
      "metadata": {
        "id": "LW7fXuDkRUS3"
      },
      "execution_count": null,
      "outputs": []
    },
    {
      "cell_type": "code",
      "source": [
        ""
      ],
      "metadata": {
        "id": "29ZRVzZuRUQr"
      },
      "execution_count": null,
      "outputs": []
    },
    {
      "cell_type": "code",
      "source": [
        ""
      ],
      "metadata": {
        "id": "nQiz-RBSRUOu"
      },
      "execution_count": null,
      "outputs": []
    },
    {
      "cell_type": "code",
      "source": [
        ""
      ],
      "metadata": {
        "id": "5IA8ciAkRUMT"
      },
      "execution_count": null,
      "outputs": []
    },
    {
      "cell_type": "code",
      "source": [
        ""
      ],
      "metadata": {
        "id": "M6jYRmTFRUJw"
      },
      "execution_count": null,
      "outputs": []
    },
    {
      "cell_type": "code",
      "source": [
        ""
      ],
      "metadata": {
        "id": "wUD2HyIFRUHB"
      },
      "execution_count": null,
      "outputs": []
    },
    {
      "cell_type": "code",
      "source": [
        ""
      ],
      "metadata": {
        "id": "zW8Xygr6RUEt"
      },
      "execution_count": null,
      "outputs": []
    },
    {
      "cell_type": "code",
      "source": [
        ""
      ],
      "metadata": {
        "id": "cWSGqY_WRUCN"
      },
      "execution_count": null,
      "outputs": []
    },
    {
      "cell_type": "code",
      "source": [
        "compare_df=pd.DataFrame(CompareData)"
      ],
      "metadata": {
        "id": "UqZ7iHJmQQbS"
      },
      "execution_count": null,
      "outputs": []
    },
    {
      "cell_type": "code",
      "source": [
        "compare_df.head()"
      ],
      "metadata": {
        "colab": {
          "base_uri": "https://localhost:8080/",
          "height": 112
        },
        "id": "YjMhkPzGQ3pC",
        "outputId": "6ef76278-e6f1-4ccf-db8b-d9d74f4019d4"
      },
      "execution_count": null,
      "outputs": [
        {
          "output_type": "execute_result",
          "data": {
            "text/html": [
              "\n",
              "  <div id=\"df-e2eb5fb8-a19f-44c7-87ca-b302ec8f579b\">\n",
              "    <div class=\"colab-df-container\">\n",
              "      <div>\n",
              "<style scoped>\n",
              "    .dataframe tbody tr th:only-of-type {\n",
              "        vertical-align: middle;\n",
              "    }\n",
              "\n",
              "    .dataframe tbody tr th {\n",
              "        vertical-align: top;\n",
              "    }\n",
              "\n",
              "    .dataframe thead th {\n",
              "        text-align: right;\n",
              "    }\n",
              "</style>\n",
              "<table border=\"1\" class=\"dataframe\">\n",
              "  <thead>\n",
              "    <tr style=\"text-align: right;\">\n",
              "      <th></th>\n",
              "      <th>Name</th>\n",
              "      <th>Total Score</th>\n",
              "      <th>RPI</th>\n",
              "      <th>Strike Rate</th>\n",
              "      <th>100's</th>\n",
              "      <th>50's</th>\n",
              "      <th>Team Contribution</th>\n",
              "    </tr>\n",
              "  </thead>\n",
              "  <tbody>\n",
              "    <tr>\n",
              "      <th>0</th>\n",
              "      <td>Sachin</td>\n",
              "      <td>None</td>\n",
              "      <td>None</td>\n",
              "      <td>None</td>\n",
              "      <td>None</td>\n",
              "      <td>None</td>\n",
              "      <td>None</td>\n",
              "    </tr>\n",
              "    <tr>\n",
              "      <th>1</th>\n",
              "      <td>Virat</td>\n",
              "      <td>None</td>\n",
              "      <td>None</td>\n",
              "      <td>None</td>\n",
              "      <td>None</td>\n",
              "      <td>None</td>\n",
              "      <td>None</td>\n",
              "    </tr>\n",
              "  </tbody>\n",
              "</table>\n",
              "</div>\n",
              "      <button class=\"colab-df-convert\" onclick=\"convertToInteractive('df-e2eb5fb8-a19f-44c7-87ca-b302ec8f579b')\"\n",
              "              title=\"Convert this dataframe to an interactive table.\"\n",
              "              style=\"display:none;\">\n",
              "        \n",
              "  <svg xmlns=\"http://www.w3.org/2000/svg\" height=\"24px\"viewBox=\"0 0 24 24\"\n",
              "       width=\"24px\">\n",
              "    <path d=\"M0 0h24v24H0V0z\" fill=\"none\"/>\n",
              "    <path d=\"M18.56 5.44l.94 2.06.94-2.06 2.06-.94-2.06-.94-.94-2.06-.94 2.06-2.06.94zm-11 1L8.5 8.5l.94-2.06 2.06-.94-2.06-.94L8.5 2.5l-.94 2.06-2.06.94zm10 10l.94 2.06.94-2.06 2.06-.94-2.06-.94-.94-2.06-.94 2.06-2.06.94z\"/><path d=\"M17.41 7.96l-1.37-1.37c-.4-.4-.92-.59-1.43-.59-.52 0-1.04.2-1.43.59L10.3 9.45l-7.72 7.72c-.78.78-.78 2.05 0 2.83L4 21.41c.39.39.9.59 1.41.59.51 0 1.02-.2 1.41-.59l7.78-7.78 2.81-2.81c.8-.78.8-2.07 0-2.86zM5.41 20L4 18.59l7.72-7.72 1.47 1.35L5.41 20z\"/>\n",
              "  </svg>\n",
              "      </button>\n",
              "      \n",
              "  <style>\n",
              "    .colab-df-container {\n",
              "      display:flex;\n",
              "      flex-wrap:wrap;\n",
              "      gap: 12px;\n",
              "    }\n",
              "\n",
              "    .colab-df-convert {\n",
              "      background-color: #E8F0FE;\n",
              "      border: none;\n",
              "      border-radius: 50%;\n",
              "      cursor: pointer;\n",
              "      display: none;\n",
              "      fill: #1967D2;\n",
              "      height: 32px;\n",
              "      padding: 0 0 0 0;\n",
              "      width: 32px;\n",
              "    }\n",
              "\n",
              "    .colab-df-convert:hover {\n",
              "      background-color: #E2EBFA;\n",
              "      box-shadow: 0px 1px 2px rgba(60, 64, 67, 0.3), 0px 1px 3px 1px rgba(60, 64, 67, 0.15);\n",
              "      fill: #174EA6;\n",
              "    }\n",
              "\n",
              "    [theme=dark] .colab-df-convert {\n",
              "      background-color: #3B4455;\n",
              "      fill: #D2E3FC;\n",
              "    }\n",
              "\n",
              "    [theme=dark] .colab-df-convert:hover {\n",
              "      background-color: #434B5C;\n",
              "      box-shadow: 0px 1px 3px 1px rgba(0, 0, 0, 0.15);\n",
              "      filter: drop-shadow(0px 1px 2px rgba(0, 0, 0, 0.3));\n",
              "      fill: #FFFFFF;\n",
              "    }\n",
              "  </style>\n",
              "\n",
              "      <script>\n",
              "        const buttonEl =\n",
              "          document.querySelector('#df-e2eb5fb8-a19f-44c7-87ca-b302ec8f579b button.colab-df-convert');\n",
              "        buttonEl.style.display =\n",
              "          google.colab.kernel.accessAllowed ? 'block' : 'none';\n",
              "\n",
              "        async function convertToInteractive(key) {\n",
              "          const element = document.querySelector('#df-e2eb5fb8-a19f-44c7-87ca-b302ec8f579b');\n",
              "          const dataTable =\n",
              "            await google.colab.kernel.invokeFunction('convertToInteractive',\n",
              "                                                     [key], {});\n",
              "          if (!dataTable) return;\n",
              "\n",
              "          const docLinkHtml = 'Like what you see? Visit the ' +\n",
              "            '<a target=\"_blank\" href=https://colab.research.google.com/notebooks/data_table.ipynb>data table notebook</a>'\n",
              "            + ' to learn more about interactive tables.';\n",
              "          element.innerHTML = '';\n",
              "          dataTable['output_type'] = 'display_data';\n",
              "          await google.colab.output.renderOutput(dataTable, element);\n",
              "          const docLink = document.createElement('div');\n",
              "          docLink.innerHTML = docLinkHtml;\n",
              "          element.appendChild(docLink);\n",
              "        }\n",
              "      </script>\n",
              "    </div>\n",
              "  </div>\n",
              "  "
            ],
            "text/plain": [
              "     Name Total Score   RPI Strike Rate 100's  50's Team Contribution\n",
              "0  Sachin  None        None  None        None  None  None            \n",
              "1  Virat   None        None  None        None  None  None            "
            ]
          },
          "metadata": {},
          "execution_count": 49
        }
      ]
    },
    {
      "cell_type": "code",
      "source": [
        ""
      ],
      "metadata": {
        "id": "52Qhdj26Q5wQ"
      },
      "execution_count": null,
      "outputs": []
    }
  ]
}