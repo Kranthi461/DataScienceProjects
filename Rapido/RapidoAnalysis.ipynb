{
 "cells": [
  {
   "cell_type": "markdown",
   "id": "collaborative-borough",
   "metadata": {},
   "source": [
    "# **$\\color{red}{\\text{Rapido Data Analysis for the period Aug-19}}$**\n",
    "\n",
    "#### <span style='color:Blue'> The data file contains all the information about each ride like rider, customer ids, booking id, time \\n of booking, place of booking, total amount, mode of payment, distance travelled, etc </span>\n",
    "\n",
    "##### <span style='color:Blue'> In this analysis we are trying to get some insights of the data </span>\n",
    "\n",
    "\n",
    "### This contains mainly following sections \n",
    "\n",
    "> #### 1. Ride analysis\n",
    "> #### 2. Revenue analysis\n",
    "> #### 3. Rider analysis"
   ]
  },
  {
   "cell_type": "markdown",
   "id": "combined-corner",
   "metadata": {},
   "source": [
    "## Step 1: Importing usefull libraries"
   ]
  },
  {
   "cell_type": "code",
   "execution_count": 1,
   "id": "breathing-cloud",
   "metadata": {},
   "outputs": [],
   "source": [
    "import pandas as pd\n",
    "import matplotlib.pyplot as plt\n",
    "import seaborn as sns"
   ]
  },
  {
   "cell_type": "markdown",
   "id": "accessible-emission",
   "metadata": {},
   "source": [
    "## Step 2: Reading the Data set"
   ]
  },
  {
   "cell_type": "code",
   "execution_count": 2,
   "id": "official-globe",
   "metadata": {},
   "outputs": [],
   "source": [
    "data=pd.read_csv(\"Rapido.csv\")"
   ]
  },
  {
   "cell_type": "code",
   "execution_count": 3,
   "id": "specified-defeat",
   "metadata": {
    "scrolled": true
   },
   "outputs": [
    {
     "data": {
      "text/html": [
       "<div>\n",
       "<style scoped>\n",
       "    .dataframe tbody tr th:only-of-type {\n",
       "        vertical-align: middle;\n",
       "    }\n",
       "\n",
       "    .dataframe tbody tr th {\n",
       "        vertical-align: top;\n",
       "    }\n",
       "\n",
       "    .dataframe thead th {\n",
       "        text-align: right;\n",
       "    }\n",
       "</style>\n",
       "<table border=\"1\" class=\"dataframe\">\n",
       "  <thead>\n",
       "    <tr style=\"text-align: right;\">\n",
       "      <th></th>\n",
       "      <th>id</th>\n",
       "      <th>CustomerMobile</th>\n",
       "      <th>RiderMobile</th>\n",
       "      <th>ServiceName</th>\n",
       "      <th>City</th>\n",
       "      <th>Coupon</th>\n",
       "      <th>CreatedOn</th>\n",
       "      <th>Hour</th>\n",
       "      <th>Status</th>\n",
       "      <th>CancelOtherReason</th>\n",
       "      <th>...</th>\n",
       "      <th>Freecharge</th>\n",
       "      <th>wallet</th>\n",
       "      <th>Paytm</th>\n",
       "      <th>lazypay</th>\n",
       "      <th>Cash</th>\n",
       "      <th>RideTime</th>\n",
       "      <th>PickupClusters</th>\n",
       "      <th>Distance</th>\n",
       "      <th>shift</th>\n",
       "      <th>spdFraud</th>\n",
       "    </tr>\n",
       "  </thead>\n",
       "  <tbody>\n",
       "    <tr>\n",
       "      <th>0</th>\n",
       "      <td>RD1564597801889</td>\n",
       "      <td>9.900476e+09</td>\n",
       "      <td>8374958510</td>\n",
       "      <td>Link</td>\n",
       "      <td>Hyderabad</td>\n",
       "      <td>NaN</td>\n",
       "      <td>01-08-2019</td>\n",
       "      <td>12:00:01 AM</td>\n",
       "      <td>dropped</td>\n",
       "      <td>NaN</td>\n",
       "      <td>...</td>\n",
       "      <td>0.0</td>\n",
       "      <td>0</td>\n",
       "      <td>0.0</td>\n",
       "      <td>0</td>\n",
       "      <td>22.0</td>\n",
       "      <td>8.293300</td>\n",
       "      <td>Hitech City</td>\n",
       "      <td>2.853</td>\n",
       "      <td>Flexi_CM</td>\n",
       "      <td>False</td>\n",
       "    </tr>\n",
       "    <tr>\n",
       "      <th>1</th>\n",
       "      <td>RD1564597804906</td>\n",
       "      <td>8.464897e+09</td>\n",
       "      <td>9160777394</td>\n",
       "      <td>Link</td>\n",
       "      <td>Hyderabad</td>\n",
       "      <td>NaN</td>\n",
       "      <td>01-08-2019</td>\n",
       "      <td>12:00:04 AM</td>\n",
       "      <td>dropped</td>\n",
       "      <td>NaN</td>\n",
       "      <td>...</td>\n",
       "      <td>0.0</td>\n",
       "      <td>0</td>\n",
       "      <td>0.0</td>\n",
       "      <td>0</td>\n",
       "      <td>53.0</td>\n",
       "      <td>12.437233</td>\n",
       "      <td>Kukatpally</td>\n",
       "      <td>5.160</td>\n",
       "      <td>Flexi_CM</td>\n",
       "      <td>False</td>\n",
       "    </tr>\n",
       "    <tr>\n",
       "      <th>2</th>\n",
       "      <td>RD1564597809114</td>\n",
       "      <td>7.661891e+09</td>\n",
       "      <td>6302070912</td>\n",
       "      <td>Link</td>\n",
       "      <td>Hyderabad</td>\n",
       "      <td>NaN</td>\n",
       "      <td>01-08-2019</td>\n",
       "      <td>12:00:09 AM</td>\n",
       "      <td>dropped</td>\n",
       "      <td>NaN</td>\n",
       "      <td>...</td>\n",
       "      <td>0.0</td>\n",
       "      <td>0</td>\n",
       "      <td>0.0</td>\n",
       "      <td>0</td>\n",
       "      <td>32.0</td>\n",
       "      <td>10.163717</td>\n",
       "      <td>Ameerpet</td>\n",
       "      <td>2.089</td>\n",
       "      <td>Flexi_CM</td>\n",
       "      <td>False</td>\n",
       "    </tr>\n",
       "    <tr>\n",
       "      <th>3</th>\n",
       "      <td>RD1564597813971</td>\n",
       "      <td>9.700987e+09</td>\n",
       "      <td>9121870148</td>\n",
       "      <td>Link</td>\n",
       "      <td>Hyderabad</td>\n",
       "      <td>NaN</td>\n",
       "      <td>01-08-2019</td>\n",
       "      <td>12:00:13 AM</td>\n",
       "      <td>dropped</td>\n",
       "      <td>NaN</td>\n",
       "      <td>...</td>\n",
       "      <td>0.0</td>\n",
       "      <td>0</td>\n",
       "      <td>0.0</td>\n",
       "      <td>0</td>\n",
       "      <td>72.0</td>\n",
       "      <td>14.713000</td>\n",
       "      <td>Begumpet</td>\n",
       "      <td>7.055</td>\n",
       "      <td>Flexi_CM</td>\n",
       "      <td>False</td>\n",
       "    </tr>\n",
       "    <tr>\n",
       "      <th>4</th>\n",
       "      <td>RD1564597823361</td>\n",
       "      <td>8.639661e+09</td>\n",
       "      <td>8309574446</td>\n",
       "      <td>Link</td>\n",
       "      <td>Hyderabad</td>\n",
       "      <td>NaN</td>\n",
       "      <td>01-08-2019</td>\n",
       "      <td>12:00:23 AM</td>\n",
       "      <td>dropped</td>\n",
       "      <td>NaN</td>\n",
       "      <td>...</td>\n",
       "      <td>0.0</td>\n",
       "      <td>0</td>\n",
       "      <td>0.0</td>\n",
       "      <td>0</td>\n",
       "      <td>23.0</td>\n",
       "      <td>10.071517</td>\n",
       "      <td>Dilsukhnagar</td>\n",
       "      <td>3.759</td>\n",
       "      <td>Flexi_CM</td>\n",
       "      <td>False</td>\n",
       "    </tr>\n",
       "  </tbody>\n",
       "</table>\n",
       "<p>5 rows × 26 columns</p>\n",
       "</div>"
      ],
      "text/plain": [
       "                id  CustomerMobile  RiderMobile ServiceName       City Coupon  \\\n",
       "0  RD1564597801889    9.900476e+09   8374958510        Link  Hyderabad    NaN   \n",
       "1  RD1564597804906    8.464897e+09   9160777394        Link  Hyderabad    NaN   \n",
       "2  RD1564597809114    7.661891e+09   6302070912        Link  Hyderabad    NaN   \n",
       "3  RD1564597813971    9.700987e+09   9121870148        Link  Hyderabad    NaN   \n",
       "4  RD1564597823361    8.639661e+09   8309574446        Link  Hyderabad    NaN   \n",
       "\n",
       "    CreatedOn         Hour   Status  CancelOtherReason  ...  Freecharge  \\\n",
       "0  01-08-2019  12:00:01 AM  dropped                NaN  ...         0.0   \n",
       "1  01-08-2019  12:00:04 AM  dropped                NaN  ...         0.0   \n",
       "2  01-08-2019  12:00:09 AM  dropped                NaN  ...         0.0   \n",
       "3  01-08-2019  12:00:13 AM  dropped                NaN  ...         0.0   \n",
       "4  01-08-2019  12:00:23 AM  dropped                NaN  ...         0.0   \n",
       "\n",
       "   wallet  Paytm  lazypay  Cash   RideTime  PickupClusters  Distance  \\\n",
       "0       0    0.0        0  22.0   8.293300     Hitech City     2.853   \n",
       "1       0    0.0        0  53.0  12.437233      Kukatpally     5.160   \n",
       "2       0    0.0        0  32.0  10.163717        Ameerpet     2.089   \n",
       "3       0    0.0        0  72.0  14.713000        Begumpet     7.055   \n",
       "4       0    0.0        0  23.0  10.071517    Dilsukhnagar     3.759   \n",
       "\n",
       "      shift  spdFraud  \n",
       "0  Flexi_CM     False  \n",
       "1  Flexi_CM     False  \n",
       "2  Flexi_CM     False  \n",
       "3  Flexi_CM     False  \n",
       "4  Flexi_CM     False  \n",
       "\n",
       "[5 rows x 26 columns]"
      ]
     },
     "execution_count": 3,
     "metadata": {},
     "output_type": "execute_result"
    }
   ],
   "source": [
    "# get top 5 rows of the data\n",
    "data.head()"
   ]
  },
  {
   "cell_type": "markdown",
   "id": "marked-stress",
   "metadata": {},
   "source": [
    "# Ride Analysis"
   ]
  },
  {
   "cell_type": "code",
   "execution_count": null,
   "id": "advisory-command",
   "metadata": {},
   "outputs": [],
   "source": []
  },
  {
   "cell_type": "markdown",
   "id": "tender-aging",
   "metadata": {},
   "source": [
    "## Step 3:  Plotting the no of rides on each day"
   ]
  },
  {
   "cell_type": "code",
   "execution_count": 4,
   "id": "addressed-mechanics",
   "metadata": {
    "scrolled": false
   },
   "outputs": [
    {
     "data": {
      "text/plain": [
       "<AxesSubplot:title={'center':'Total number of rides for each day'}, xlabel='CreatedOn'>"
      ]
     },
     "execution_count": 4,
     "metadata": {},
     "output_type": "execute_result"
    },
    {
     "data": {
      "image/png": "[encoded data removed]",
      "text/plain": [
       "<Figure size 1080x432 with 1 Axes>"
      ]
     },
     "metadata": {
      "needs_background": "light"
     },
     "output_type": "display_data"
    }
   ],
   "source": [
    "# grouping by each day and counting the booking id will give no of rides on each day\n",
    "data.groupby(\"CreatedOn\")[\"id\"].count().plot.bar(title=\"Total number of rides for each day\",figsize=(15,6),rot=90)"
   ]
  },
  {
   "cell_type": "markdown",
   "id": "bottom-moderator",
   "metadata": {},
   "source": [
    "## Step 4: Calculating the rides in each cluster\n"
   ]
  },
  {
   "cell_type": "code",
   "execution_count": 5,
   "id": "chief-cruise",
   "metadata": {},
   "outputs": [
    {
     "data": {
      "text/plain": [
       "PickupClusters\n",
       "AOC Center                     13714\n",
       "Abids                          10206\n",
       "Alwal                           2149\n",
       "Amberpet                        9291\n",
       "Ameenpur                        2614\n",
       "Ameerpet                       40921\n",
       "Ashok Nagar - HYD              10613\n",
       "Attapur                         6911\n",
       "BJR Nagar                       4472\n",
       "Balanagar                       3557\n",
       "Balanagar Metro Station          275\n",
       "Banjara Hills                  42434\n",
       "Banjara Hills 2                16030\n",
       "Basheerbagh                     8245\n",
       "Begumpet                       14611\n",
       "Bharath Nagar Metro Station     3695\n",
       "Bodduppal                       9899\n",
       "Bowenpally                      4221\n",
       "Dilsukhnagar                   21913\n",
       "ECIL                            4555\n",
       "Name: id, dtype: int64"
      ]
     },
     "execution_count": 5,
     "metadata": {},
     "output_type": "execute_result"
    }
   ],
   "source": [
    "# grouping by pickupclusters and counting booking ids will give no of rides in each cluster\n",
    "clusterData=data.groupby(\"PickupClusters\")[\"id\"].count()\n",
    "clusterData.head(20)"
   ]
  },
  {
   "cell_type": "markdown",
   "id": "checked-friend",
   "metadata": {},
   "source": [
    "## Identifying top 20 clusters "
   ]
  },
  {
   "cell_type": "code",
   "execution_count": 6,
   "id": "hungarian-focus",
   "metadata": {},
   "outputs": [],
   "source": [
    "# by addding .nlargest will give the top clusters with max no of rides\n",
    "Top20clusters=data.groupby(\"PickupClusters\")[\"id\"].count().nlargest(20)"
   ]
  },
  {
   "cell_type": "code",
   "execution_count": 7,
   "id": "ordinary-imperial",
   "metadata": {},
   "outputs": [
    {
     "data": {
      "text/plain": [
       "Text(0, 0.5, 'Number of Rides')"
      ]
     },
     "execution_count": 7,
     "metadata": {},
     "output_type": "execute_result"
    },
    {
     "data": {
      "image/png": "[encoded data removed]",
      "text/plain": [
       "<Figure size 1080x432 with 1 Axes>"
      ]
     },
     "metadata": {
      "needs_background": "light"
     },
     "output_type": "display_data"
    }
   ],
   "source": [
    "# plotting the bar graph\n",
    "ax=Top20clusters.plot.bar(title=\"Number of Rides in each cluster\",figsize=(15,6))\n",
    "ax.set_xlabel(\"Cluster Area\")\n",
    "ax.set_ylabel(\"Number of Rides\")"
   ]
  },
  {
   "cell_type": "markdown",
   "id": "genetic-framework",
   "metadata": {},
   "source": [
    "## Identifying Rides behaviour with respect to Day of the week and Hour of the day"
   ]
  },
  {
   "cell_type": "code",
   "execution_count": 41,
   "id": "radical-syntax",
   "metadata": {},
   "outputs": [],
   "source": [
    "datedata=pd.to_datetime(data['CreatedOn'])\n"
   ]
  },
  {
   "cell_type": "code",
   "execution_count": 73,
   "id": "referenced-schema",
   "metadata": {},
   "outputs": [],
   "source": [
    "import seaborn as sns\n",
    "sns.set_style('darkgrid')"
   ]
  },
  {
   "cell_type": "code",
   "execution_count": 78,
   "id": "normal-coral",
   "metadata": {},
   "outputs": [
    {
     "data": {
      "text/plain": [
       "[Text(0.5, 0, 'Day of the week(0 for Mon & 6 for Sun)'),\n",
       " Text(0, 0.5, 'No of rides'),\n",
       " Text(0.5, 1.0, 'Rides on each day')]"
      ]
     },
     "execution_count": 78,
     "metadata": {},
     "output_type": "execute_result"
    },
    {
     "data": {
      "image/png": "[encoded data removed]",
      "text/plain": [
       "<Figure size 432x288 with 1 Axes>"
      ]
     },
     "metadata": {},
     "output_type": "display_data"
    }
   ],
   "source": [
    "ax=sns.histplot(datedata.dt.dayofweek,bins=7)\n",
    "ax.set(xlabel='Day of the week(0 for Mon & 6 for Sun)',ylabel='No of rides',title='Rides on each day')"
   ]
  },
  {
   "cell_type": "code",
   "execution_count": 50,
   "id": "happy-influence",
   "metadata": {},
   "outputs": [],
   "source": [
    "hourdata=pd.to_datetime(data['Hour'])"
   ]
  },
  {
   "cell_type": "code",
   "execution_count": 79,
   "id": "friendly-cause",
   "metadata": {},
   "outputs": [
    {
     "data": {
      "text/plain": [
       "0         2021-03-05 00:00:01\n",
       "1         2021-03-05 00:00:04\n",
       "2         2021-03-05 00:00:09\n",
       "3         2021-03-05 00:00:13\n",
       "4         2021-03-05 00:00:23\n",
       "                  ...        \n",
       "1016541   2021-03-05 23:58:36\n",
       "1016542   2021-03-05 23:58:36\n",
       "1016543   2021-03-05 23:58:36\n",
       "1016544   2021-03-05 23:58:40\n",
       "1016545   2021-03-05 23:59:08\n",
       "Name: Hour, Length: 1016546, dtype: datetime64[ns]"
      ]
     },
     "execution_count": 79,
     "metadata": {},
     "output_type": "execute_result"
    }
   ],
   "source": [
    "hourdata"
   ]
  },
  {
   "cell_type": "code",
   "execution_count": 75,
   "id": "infrared-hello",
   "metadata": {},
   "outputs": [
    {
     "data": {
      "text/plain": [
       "[Text(0.5, 0, 'Hour of the day'),\n",
       " Text(0, 0.5, 'No.of rides'),\n",
       " Text(0.5, 1.0, 'Rides on each hour')]"
      ]
     },
     "execution_count": 75,
     "metadata": {},
     "output_type": "execute_result"
    },
    {
     "data": {
      "image/png": "[encoded data removed]",
      "text/plain": [
       "<Figure size 432x288 with 1 Axes>"
      ]
     },
     "metadata": {},
     "output_type": "display_data"
    }
   ],
   "source": [
    "ax=sns.histplot(hourdata.dt.hour,bins=24)\n",
    "ax.set(xlabel='Hour of the day',ylabel='No.of rides',title='Rides on each hour')"
   ]
  },
  {
   "cell_type": "markdown",
   "id": "interstate-college",
   "metadata": {},
   "source": [
    "# Revenue Analysis"
   ]
  },
  {
   "cell_type": "markdown",
   "id": "binary-preservation",
   "metadata": {},
   "source": [
    "##  Step 5: Plotting the Revenue for the month August\n",
    "\n",
    "##### To know how much revenue generated in each day"
   ]
  },
  {
   "cell_type": "code",
   "execution_count": 9,
   "id": "critical-pencil",
   "metadata": {
    "scrolled": false
   },
   "outputs": [
    {
     "data": {
      "text/plain": [
       "Text(0, 0.5, 'Revenue')"
      ]
     },
     "execution_count": 9,
     "metadata": {},
     "output_type": "execute_result"
    },
    {
     "data": {
      "image/png": "[encoded data removed]",
      "text/plain": [
       "<Figure size 1080x432 with 1 Axes>"
      ]
     },
     "metadata": {
      "needs_background": "light"
     },
     "output_type": "display_data"
    }
   ],
   "source": [
    "ax=data.groupby(\"CreatedOn\")[\"Amount\"].sum().plot.bar(title=\"Revenue generated on each day in August\",figsize=(15,6),rot=90)\n",
    "ax.set_xlabel(\"Date\")\n",
    "ax.set_ylabel(\"Revenue\")"
   ]
  },
  {
   "cell_type": "markdown",
   "id": "cooperative-complement",
   "metadata": {},
   "source": [
    "####  To know how much revenue generated for each day by different payment methods"
   ]
  },
  {
   "cell_type": "code",
   "execution_count": 10,
   "id": "micro-video",
   "metadata": {},
   "outputs": [
    {
     "data": {
      "text/plain": [
       "Text(0, 0.5, 'Total Amount')"
      ]
     },
     "execution_count": 10,
     "metadata": {},
     "output_type": "execute_result"
    },
    {
     "data": {
      "image/png": "[encoded data removed]",
      "text/plain": [
       "<Figure size 1296x720 with 1 Axes>"
      ]
     },
     "metadata": {
      "needs_background": "light"
     },
     "output_type": "display_data"
    }
   ],
   "source": [
    "# bar plotting\n",
    "ax=data.groupby('CreatedOn')[['Cash','Paytm','RapidoWallet']].sum().plot.bar(title=\"Revenue generated for each day by different payment method\",\n",
    "                                                                          stacked=True,figsize=(18,10))\n",
    "ax.set_xlabel(\"Date\")\n",
    "ax.set_ylabel(\"Total Amount\")"
   ]
  },
  {
   "cell_type": "markdown",
   "id": "registered-williams",
   "metadata": {},
   "source": [
    "## Step 6: Revenue generated by different methods"
   ]
  },
  {
   "cell_type": "markdown",
   "id": "viral-washington",
   "metadata": {},
   "source": [
    "#### creating a dataframe includes each payment method and its revenue"
   ]
  },
  {
   "cell_type": "code",
   "execution_count": 11,
   "id": "sapphire-bicycle",
   "metadata": {},
   "outputs": [
    {
     "data": {
      "text/html": [
       "<div>\n",
       "<style scoped>\n",
       "    .dataframe tbody tr th:only-of-type {\n",
       "        vertical-align: middle;\n",
       "    }\n",
       "\n",
       "    .dataframe tbody tr th {\n",
       "        vertical-align: top;\n",
       "    }\n",
       "\n",
       "    .dataframe thead th {\n",
       "        text-align: right;\n",
       "    }\n",
       "</style>\n",
       "<table border=\"1\" class=\"dataframe\">\n",
       "  <thead>\n",
       "    <tr style=\"text-align: right;\">\n",
       "      <th></th>\n",
       "      <th>Amount</th>\n",
       "    </tr>\n",
       "  </thead>\n",
       "  <tbody>\n",
       "    <tr>\n",
       "      <th>Cash</th>\n",
       "      <td>3.282679e+07</td>\n",
       "    </tr>\n",
       "    <tr>\n",
       "      <th>Paytm</th>\n",
       "      <td>5.228775e+06</td>\n",
       "    </tr>\n",
       "    <tr>\n",
       "      <th>RapidoWallet</th>\n",
       "      <td>3.799101e+06</td>\n",
       "    </tr>\n",
       "  </tbody>\n",
       "</table>\n",
       "</div>"
      ],
      "text/plain": [
       "                    Amount\n",
       "Cash          3.282679e+07\n",
       "Paytm         5.228775e+06\n",
       "RapidoWallet  3.799101e+06"
      ]
     },
     "execution_count": 11,
     "metadata": {},
     "output_type": "execute_result"
    }
   ],
   "source": [
    "# creating a dataframe includes each payment method and its revenue\n",
    "Revenue=pd.DataFrame({'Amount':[data['Cash'].sum(),data['Paytm'].sum(),data['RapidoWallet'].sum()]}\n",
    "                     , index=['Cash','Paytm','RapidoWallet'])\n",
    "Revenue"
   ]
  },
  {
   "cell_type": "markdown",
   "id": "critical-cargo",
   "metadata": {},
   "source": [
    "#### Plotting the Pie chart\n"
   ]
  },
  {
   "cell_type": "code",
   "execution_count": 12,
   "id": "employed-reducing",
   "metadata": {},
   "outputs": [
    {
     "data": {
      "text/plain": [
       "<AxesSubplot:ylabel='Amount'>"
      ]
     },
     "execution_count": 12,
     "metadata": {},
     "output_type": "execute_result"
    },
    {
     "data": {
      "image/png": "[encoded data removed]",
      "text/plain": [
       "<Figure size 1080x720 with 1 Axes>"
      ]
     },
     "metadata": {},
     "output_type": "display_data"
    }
   ],
   "source": [
    "Revenue.plot.pie(y='Amount',figsize=(15,10),startangle=0,autopct='%1.1f%%')"
   ]
  },
  {
   "cell_type": "markdown",
   "id": "nominated-removal",
   "metadata": {},
   "source": [
    "#  Rider analysis"
   ]
  },
  {
   "cell_type": "markdown",
   "id": "permanent-broadway",
   "metadata": {},
   "source": [
    "## Step 7: Identifying the Top 20 Riders"
   ]
  },
  {
   "cell_type": "code",
   "execution_count": 13,
   "id": "certified-running",
   "metadata": {},
   "outputs": [],
   "source": [
    "# Identifying the top 20 riders based on the number of rides\n",
    "Top20Riders=data.groupby(\"RiderMobile\")[\"id\"].count().nlargest(20)"
   ]
  },
  {
   "cell_type": "code",
   "execution_count": 14,
   "id": "arabic-phenomenon",
   "metadata": {},
   "outputs": [
    {
     "data": {
      "text/plain": [
       "Text(0, 0.5, 'Number of Rides')"
      ]
     },
     "execution_count": 14,
     "metadata": {},
     "output_type": "execute_result"
    },
    {
     "data": {
      "image/png": "[encoded data removed]",
      "text/plain": [
       "<Figure size 1080x432 with 1 Axes>"
      ]
     },
     "metadata": {
      "needs_background": "light"
     },
     "output_type": "display_data"
    }
   ],
   "source": [
    "# plotting the top 20 riders \n",
    "ax=Top20Riders.plot.bar(title=\"Top 20 Riders\",figsize=(15,6))\n",
    "ax.set_xlabel(\"Rider Mobile Number\")\n",
    "ax.set_ylabel(\"Number of Rides\")"
   ]
  },
  {
   "cell_type": "markdown",
   "id": "biblical-maryland",
   "metadata": {},
   "source": [
    "##  Step 8: Calculating the number of rides for each rider"
   ]
  },
  {
   "cell_type": "code",
   "execution_count": 15,
   "id": "later-speed",
   "metadata": {},
   "outputs": [
    {
     "data": {
      "text/html": [
       "<div>\n",
       "<style scoped>\n",
       "    .dataframe tbody tr th:only-of-type {\n",
       "        vertical-align: middle;\n",
       "    }\n",
       "\n",
       "    .dataframe tbody tr th {\n",
       "        vertical-align: top;\n",
       "    }\n",
       "\n",
       "    .dataframe thead th {\n",
       "        text-align: right;\n",
       "    }\n",
       "</style>\n",
       "<table border=\"1\" class=\"dataframe\">\n",
       "  <thead>\n",
       "    <tr style=\"text-align: right;\">\n",
       "      <th></th>\n",
       "      <th>RiderMobile</th>\n",
       "      <th>Count</th>\n",
       "    </tr>\n",
       "  </thead>\n",
       "  <tbody>\n",
       "    <tr>\n",
       "      <th>0</th>\n",
       "      <td>6201513153</td>\n",
       "      <td>100</td>\n",
       "    </tr>\n",
       "    <tr>\n",
       "      <th>1</th>\n",
       "      <td>6202647961</td>\n",
       "      <td>11</td>\n",
       "    </tr>\n",
       "    <tr>\n",
       "      <th>2</th>\n",
       "      <td>6261969412</td>\n",
       "      <td>3</td>\n",
       "    </tr>\n",
       "    <tr>\n",
       "      <th>3</th>\n",
       "      <td>6262655337</td>\n",
       "      <td>1</td>\n",
       "    </tr>\n",
       "    <tr>\n",
       "      <th>4</th>\n",
       "      <td>6264605214</td>\n",
       "      <td>62</td>\n",
       "    </tr>\n",
       "  </tbody>\n",
       "</table>\n",
       "</div>"
      ],
      "text/plain": [
       "   RiderMobile  Count\n",
       "0   6201513153    100\n",
       "1   6202647961     11\n",
       "2   6261969412      3\n",
       "3   6262655337      1\n",
       "4   6264605214     62"
      ]
     },
     "execution_count": 15,
     "metadata": {},
     "output_type": "execute_result"
    }
   ],
   "source": [
    "# calculating the number of rides for each rider\n",
    "No_of_rides=data.groupby(\"RiderMobile\")[\"id\"].count().reset_index(name='Count')\n",
    "No_of_rides.head()"
   ]
  },
  {
   "cell_type": "markdown",
   "id": "spread-ceremony",
   "metadata": {},
   "source": [
    "## Step 9: Categerizing the each rider\n",
    "1. if Rides>400 then 4\n",
    "2. if Rides>300 then 3\n",
    "3. if Rides> 200 then 2\n",
    "4. if Rides>100 then 1\n",
    "else 0"
   ]
  },
  {
   "cell_type": "code",
   "execution_count": 16,
   "id": "reserved-completion",
   "metadata": {},
   "outputs": [],
   "source": [
    "# inserting the label for no of rides\n",
    "def add_ridegroups(group):\n",
    "    if group>=400:\n",
    "        return 4\n",
    "    elif group>=300:\n",
    "        return 3\n",
    "    elif group>=200:\n",
    "        return 2\n",
    "    elif group>=100:\n",
    "        return 1\n",
    "    else:\n",
    "        return 0\n",
    "    \n",
    "\n",
    "No_of_rides['label']=No_of_rides['Count'].apply(add_ridegroups)\n"
   ]
  },
  {
   "cell_type": "code",
   "execution_count": 17,
   "id": "rapid-hunter",
   "metadata": {},
   "outputs": [
    {
     "data": {
      "text/html": [
       "<div>\n",
       "<style scoped>\n",
       "    .dataframe tbody tr th:only-of-type {\n",
       "        vertical-align: middle;\n",
       "    }\n",
       "\n",
       "    .dataframe tbody tr th {\n",
       "        vertical-align: top;\n",
       "    }\n",
       "\n",
       "    .dataframe thead th {\n",
       "        text-align: right;\n",
       "    }\n",
       "</style>\n",
       "<table border=\"1\" class=\"dataframe\">\n",
       "  <thead>\n",
       "    <tr style=\"text-align: right;\">\n",
       "      <th></th>\n",
       "      <th>RiderMobile</th>\n",
       "      <th>Count</th>\n",
       "      <th>label</th>\n",
       "    </tr>\n",
       "  </thead>\n",
       "  <tbody>\n",
       "    <tr>\n",
       "      <th>0</th>\n",
       "      <td>6201513153</td>\n",
       "      <td>100</td>\n",
       "      <td>1</td>\n",
       "    </tr>\n",
       "    <tr>\n",
       "      <th>1</th>\n",
       "      <td>6202647961</td>\n",
       "      <td>11</td>\n",
       "      <td>0</td>\n",
       "    </tr>\n",
       "    <tr>\n",
       "      <th>2</th>\n",
       "      <td>6261969412</td>\n",
       "      <td>3</td>\n",
       "      <td>0</td>\n",
       "    </tr>\n",
       "    <tr>\n",
       "      <th>3</th>\n",
       "      <td>6262655337</td>\n",
       "      <td>1</td>\n",
       "      <td>0</td>\n",
       "    </tr>\n",
       "    <tr>\n",
       "      <th>4</th>\n",
       "      <td>6264605214</td>\n",
       "      <td>62</td>\n",
       "      <td>0</td>\n",
       "    </tr>\n",
       "  </tbody>\n",
       "</table>\n",
       "</div>"
      ],
      "text/plain": [
       "   RiderMobile  Count  label\n",
       "0   6201513153    100      1\n",
       "1   6202647961     11      0\n",
       "2   6261969412      3      0\n",
       "3   6262655337      1      0\n",
       "4   6264605214     62      0"
      ]
     },
     "execution_count": 17,
     "metadata": {},
     "output_type": "execute_result"
    }
   ],
   "source": [
    "No_of_rides.head()"
   ]
  },
  {
   "cell_type": "markdown",
   "id": "stretch-tyler",
   "metadata": {},
   "source": [
    "## Step 10:  Counting the number of riders in each category"
   ]
  },
  {
   "cell_type": "code",
   "execution_count": 18,
   "id": "scientific-scenario",
   "metadata": {
    "scrolled": true
   },
   "outputs": [
    {
     "data": {
      "text/plain": [
       "label\n",
       "0    26759\n",
       "1     2155\n",
       "2      406\n",
       "3       94\n",
       "4       20\n",
       "Name: RiderMobile, dtype: int64"
      ]
     },
     "execution_count": 18,
     "metadata": {},
     "output_type": "execute_result"
    }
   ],
   "source": [
    "No_of_rides.groupby(\"label\")['RiderMobile'].count()"
   ]
  },
  {
   "cell_type": "code",
   "execution_count": 19,
   "id": "metric-walter",
   "metadata": {},
   "outputs": [
    {
     "data": {
      "text/plain": [
       "[Text(0, 0, '0-100'),\n",
       " Text(1, 0, '100-200'),\n",
       " Text(2, 0, '200-300'),\n",
       " Text(3, 0, '300-400'),\n",
       " Text(4, 0, '400-500')]"
      ]
     },
     "execution_count": 19,
     "metadata": {},
     "output_type": "execute_result"
    },
    {
     "data": {
      "image/png": "[encoded data removed]",
      "text/plain": [
       "<Figure size 432x288 with 1 Axes>"
      ]
     },
     "metadata": {
      "needs_background": "light"
     },
     "output_type": "display_data"
    }
   ],
   "source": [
    "ax=No_of_rides.groupby(\"label\")['RiderMobile'].count().plot.bar(title=\"Ride Category\")\n",
    "ax.set_ylabel(\"Number of Rides\")\n",
    "ax.set_xlabel(\"category\")\n",
    "ax.set_xticklabels([\"0-100\",\"100-200\",\"200-300\",\"300-400\",\"400-500\"])"
   ]
  },
  {
   "cell_type": "markdown",
   "id": "authorized-search",
   "metadata": {},
   "source": [
    "## Step 11: Calculating Average rating for each rider\n"
   ]
  },
  {
   "cell_type": "code",
   "execution_count": 20,
   "id": "unknown-seminar",
   "metadata": {},
   "outputs": [
    {
     "data": {
      "text/html": [
       "<div>\n",
       "<style scoped>\n",
       "    .dataframe tbody tr th:only-of-type {\n",
       "        vertical-align: middle;\n",
       "    }\n",
       "\n",
       "    .dataframe tbody tr th {\n",
       "        vertical-align: top;\n",
       "    }\n",
       "\n",
       "    .dataframe thead th {\n",
       "        text-align: right;\n",
       "    }\n",
       "</style>\n",
       "<table border=\"1\" class=\"dataframe\">\n",
       "  <thead>\n",
       "    <tr style=\"text-align: right;\">\n",
       "      <th></th>\n",
       "      <th>RiderMobile</th>\n",
       "      <th>AvgRating</th>\n",
       "    </tr>\n",
       "  </thead>\n",
       "  <tbody>\n",
       "    <tr>\n",
       "      <th>0</th>\n",
       "      <td>6201513153</td>\n",
       "      <td>4.423529</td>\n",
       "    </tr>\n",
       "    <tr>\n",
       "      <th>1</th>\n",
       "      <td>6202647961</td>\n",
       "      <td>4.777778</td>\n",
       "    </tr>\n",
       "    <tr>\n",
       "      <th>2</th>\n",
       "      <td>6261969412</td>\n",
       "      <td>5.000000</td>\n",
       "    </tr>\n",
       "    <tr>\n",
       "      <th>3</th>\n",
       "      <td>6262655337</td>\n",
       "      <td>5.000000</td>\n",
       "    </tr>\n",
       "    <tr>\n",
       "      <th>4</th>\n",
       "      <td>6264605214</td>\n",
       "      <td>4.881356</td>\n",
       "    </tr>\n",
       "  </tbody>\n",
       "</table>\n",
       "</div>"
      ],
      "text/plain": [
       "   RiderMobile  AvgRating\n",
       "0   6201513153   4.423529\n",
       "1   6202647961   4.777778\n",
       "2   6261969412   5.000000\n",
       "3   6262655337   5.000000\n",
       "4   6264605214   4.881356"
      ]
     },
     "execution_count": 20,
     "metadata": {},
     "output_type": "execute_result"
    }
   ],
   "source": [
    "# calculating the average rating for each rider\n",
    "RiderRating=data.groupby(\"RiderMobile\")[\"CustomerRating\"].mean().reset_index(name='AvgRating')\n",
    "RiderRating.head()"
   ]
  },
  {
   "cell_type": "markdown",
   "id": "informed-passing",
   "metadata": {},
   "source": [
    "## Step 12: Categorizing the Rider based on rating"
   ]
  },
  {
   "cell_type": "code",
   "execution_count": 21,
   "id": "visible-andrews",
   "metadata": {},
   "outputs": [
    {
     "data": {
      "text/html": [
       "<div>\n",
       "<style scoped>\n",
       "    .dataframe tbody tr th:only-of-type {\n",
       "        vertical-align: middle;\n",
       "    }\n",
       "\n",
       "    .dataframe tbody tr th {\n",
       "        vertical-align: top;\n",
       "    }\n",
       "\n",
       "    .dataframe thead th {\n",
       "        text-align: right;\n",
       "    }\n",
       "</style>\n",
       "<table border=\"1\" class=\"dataframe\">\n",
       "  <thead>\n",
       "    <tr style=\"text-align: right;\">\n",
       "      <th></th>\n",
       "      <th>RiderMobile</th>\n",
       "      <th>AvgRating</th>\n",
       "      <th>label</th>\n",
       "    </tr>\n",
       "  </thead>\n",
       "  <tbody>\n",
       "    <tr>\n",
       "      <th>0</th>\n",
       "      <td>6201513153</td>\n",
       "      <td>4.423529</td>\n",
       "      <td>4</td>\n",
       "    </tr>\n",
       "    <tr>\n",
       "      <th>1</th>\n",
       "      <td>6202647961</td>\n",
       "      <td>4.777778</td>\n",
       "      <td>4</td>\n",
       "    </tr>\n",
       "    <tr>\n",
       "      <th>2</th>\n",
       "      <td>6261969412</td>\n",
       "      <td>5.000000</td>\n",
       "      <td>5</td>\n",
       "    </tr>\n",
       "    <tr>\n",
       "      <th>3</th>\n",
       "      <td>6262655337</td>\n",
       "      <td>5.000000</td>\n",
       "      <td>5</td>\n",
       "    </tr>\n",
       "    <tr>\n",
       "      <th>4</th>\n",
       "      <td>6264605214</td>\n",
       "      <td>4.881356</td>\n",
       "      <td>4</td>\n",
       "    </tr>\n",
       "  </tbody>\n",
       "</table>\n",
       "</div>"
      ],
      "text/plain": [
       "   RiderMobile  AvgRating  label\n",
       "0   6201513153   4.423529      4\n",
       "1   6202647961   4.777778      4\n",
       "2   6261969412   5.000000      5\n",
       "3   6262655337   5.000000      5\n",
       "4   6264605214   4.881356      4"
      ]
     },
     "execution_count": 21,
     "metadata": {},
     "output_type": "execute_result"
    }
   ],
   "source": [
    "# inserting the label for no of rides\n",
    "def add_ridegroups(group):\n",
    "    if group>=5:\n",
    "        return 5\n",
    "    elif group>=4:\n",
    "        return 4\n",
    "    elif group>=3:\n",
    "        return 3\n",
    "    elif group>=2:\n",
    "        return 2\n",
    "    elif group>=1:\n",
    "        return 1\n",
    "    else:\n",
    "        return 0\n",
    "    \n",
    "\n",
    "RiderRating['label']=RiderRating['AvgRating'].apply(add_ridegroups)\n",
    "RiderRating.head()\n"
   ]
  },
  {
   "cell_type": "markdown",
   "id": "remarkable-vatican",
   "metadata": {},
   "source": [
    "## Step 13: Calculating no of riders in Rating Category"
   ]
  },
  {
   "cell_type": "code",
   "execution_count": 22,
   "id": "incorrect-window",
   "metadata": {
    "scrolled": true
   },
   "outputs": [
    {
     "data": {
      "text/plain": [
       "label\n",
       "0      338\n",
       "1      155\n",
       "2       98\n",
       "3      888\n",
       "4    20747\n",
       "5     7208\n",
       "Name: RiderMobile, dtype: int64"
      ]
     },
     "execution_count": 22,
     "metadata": {},
     "output_type": "execute_result"
    }
   ],
   "source": [
    "RiderRating.groupby('label')['RiderMobile'].count()"
   ]
  },
  {
   "cell_type": "code",
   "execution_count": 23,
   "id": "flexible-survival",
   "metadata": {
    "scrolled": false
   },
   "outputs": [
    {
     "data": {
      "text/plain": [
       "[Text(0, 0, '0-1'),\n",
       " Text(1, 0, '1-2'),\n",
       " Text(2, 0, '2-3'),\n",
       " Text(3, 0, '3-4'),\n",
       " Text(4, 0, '4-5'),\n",
       " Text(5, 0, '5')]"
      ]
     },
     "execution_count": 23,
     "metadata": {},
     "output_type": "execute_result"
    },
    {
     "data": {
      "image/png": "[encoded data removed]",
      "text/plain": [
       "<Figure size 432x288 with 1 Axes>"
      ]
     },
     "metadata": {
      "needs_background": "light"
     },
     "output_type": "display_data"
    }
   ],
   "source": [
    "ax=RiderRating.groupby('label')['RiderMobile'].count().plot.bar(title=\"Number of Riders for each rating category\")\n",
    "ax.set_xlabel(\"Average Rating\")\n",
    "ax.set_ylabel(\"Number of Riders\")\n",
    "ax.set_xticklabels([\"0-1\",\"1-2\",\"2-3\",\"3-4\",\"4-5\",\"5\"])"
   ]
  },
  {
   "cell_type": "markdown",
   "id": "operating-relationship",
   "metadata": {},
   "source": [
    "# Customer Analysis"
   ]
  },
  {
   "cell_type": "markdown",
   "id": "opposite-crisis",
   "metadata": {},
   "source": [
    "## Step 14: Calculating number of Unique customers"
   ]
  },
  {
   "cell_type": "code",
   "execution_count": 24,
   "id": "mental-fancy",
   "metadata": {},
   "outputs": [
    {
     "data": {
      "text/plain": [
       "284550"
      ]
     },
     "execution_count": 24,
     "metadata": {},
     "output_type": "execute_result"
    }
   ],
   "source": [
    "# calculates unique customers using nunique()\n",
    "data.CustomerMobile.nunique()"
   ]
  },
  {
   "cell_type": "markdown",
   "id": "printable-navigator",
   "metadata": {},
   "source": [
    "## Step 15: Calculating number of rides for each customer"
   ]
  },
  {
   "cell_type": "code",
   "execution_count": 25,
   "id": "signal-paintball",
   "metadata": {},
   "outputs": [
    {
     "data": {
      "text/plain": [
       "CustomerMobile\n",
       "1.068895e+09    3\n",
       "1.424446e+09    1\n",
       "1.470611e+09    1\n",
       "1.506647e+09    1\n",
       "1.509027e+09    2\n",
       "               ..\n",
       "9.999987e+09    3\n",
       "9.999993e+09    5\n",
       "6.142441e+10    1\n",
       "6.148879e+10    2\n",
       "3.806370e+11    2\n",
       "Name: id, Length: 284550, dtype: int64"
      ]
     },
     "execution_count": 25,
     "metadata": {},
     "output_type": "execute_result"
    }
   ],
   "source": [
    "data.groupby('CustomerMobile')['id'].count()"
   ]
  },
  {
   "cell_type": "markdown",
   "id": "english-stocks",
   "metadata": {},
   "source": [
    "## Step 16: Getting Top 20 Customers with max rides"
   ]
  },
  {
   "cell_type": "code",
   "execution_count": 26,
   "id": "enhanced-situation",
   "metadata": {
    "scrolled": false
   },
   "outputs": [
    {
     "data": {
      "text/html": [
       "<div>\n",
       "<style scoped>\n",
       "    .dataframe tbody tr th:only-of-type {\n",
       "        vertical-align: middle;\n",
       "    }\n",
       "\n",
       "    .dataframe tbody tr th {\n",
       "        vertical-align: top;\n",
       "    }\n",
       "\n",
       "    .dataframe thead th {\n",
       "        text-align: right;\n",
       "    }\n",
       "</style>\n",
       "<table border=\"1\" class=\"dataframe\">\n",
       "  <thead>\n",
       "    <tr style=\"text-align: right;\">\n",
       "      <th></th>\n",
       "      <th>CustomerMobile</th>\n",
       "      <th>Count</th>\n",
       "    </tr>\n",
       "  </thead>\n",
       "  <tbody>\n",
       "    <tr>\n",
       "      <th>0</th>\n",
       "      <td>9.390233e+09</td>\n",
       "      <td>139</td>\n",
       "    </tr>\n",
       "    <tr>\n",
       "      <th>1</th>\n",
       "      <td>8.328274e+09</td>\n",
       "      <td>137</td>\n",
       "    </tr>\n",
       "    <tr>\n",
       "      <th>2</th>\n",
       "      <td>9.391018e+09</td>\n",
       "      <td>124</td>\n",
       "    </tr>\n",
       "    <tr>\n",
       "      <th>3</th>\n",
       "      <td>9.908734e+09</td>\n",
       "      <td>114</td>\n",
       "    </tr>\n",
       "    <tr>\n",
       "      <th>4</th>\n",
       "      <td>9.346707e+09</td>\n",
       "      <td>111</td>\n",
       "    </tr>\n",
       "    <tr>\n",
       "      <th>5</th>\n",
       "      <td>9.121144e+09</td>\n",
       "      <td>102</td>\n",
       "    </tr>\n",
       "    <tr>\n",
       "      <th>6</th>\n",
       "      <td>9.133799e+09</td>\n",
       "      <td>91</td>\n",
       "    </tr>\n",
       "    <tr>\n",
       "      <th>7</th>\n",
       "      <td>9.182530e+09</td>\n",
       "      <td>88</td>\n",
       "    </tr>\n",
       "    <tr>\n",
       "      <th>8</th>\n",
       "      <td>9.866131e+09</td>\n",
       "      <td>85</td>\n",
       "    </tr>\n",
       "    <tr>\n",
       "      <th>9</th>\n",
       "      <td>9.346138e+09</td>\n",
       "      <td>80</td>\n",
       "    </tr>\n",
       "    <tr>\n",
       "      <th>10</th>\n",
       "      <td>7.032321e+09</td>\n",
       "      <td>77</td>\n",
       "    </tr>\n",
       "    <tr>\n",
       "      <th>11</th>\n",
       "      <td>8.185835e+09</td>\n",
       "      <td>77</td>\n",
       "    </tr>\n",
       "    <tr>\n",
       "      <th>12</th>\n",
       "      <td>6.300124e+09</td>\n",
       "      <td>76</td>\n",
       "    </tr>\n",
       "    <tr>\n",
       "      <th>13</th>\n",
       "      <td>8.085330e+09</td>\n",
       "      <td>75</td>\n",
       "    </tr>\n",
       "    <tr>\n",
       "      <th>14</th>\n",
       "      <td>8.790116e+09</td>\n",
       "      <td>74</td>\n",
       "    </tr>\n",
       "    <tr>\n",
       "      <th>15</th>\n",
       "      <td>8.328035e+09</td>\n",
       "      <td>73</td>\n",
       "    </tr>\n",
       "    <tr>\n",
       "      <th>16</th>\n",
       "      <td>9.553695e+09</td>\n",
       "      <td>72</td>\n",
       "    </tr>\n",
       "    <tr>\n",
       "      <th>17</th>\n",
       "      <td>6.300515e+09</td>\n",
       "      <td>71</td>\n",
       "    </tr>\n",
       "    <tr>\n",
       "      <th>18</th>\n",
       "      <td>7.382277e+09</td>\n",
       "      <td>71</td>\n",
       "    </tr>\n",
       "    <tr>\n",
       "      <th>19</th>\n",
       "      <td>7.075338e+09</td>\n",
       "      <td>70</td>\n",
       "    </tr>\n",
       "  </tbody>\n",
       "</table>\n",
       "</div>"
      ],
      "text/plain": [
       "    CustomerMobile  Count\n",
       "0     9.390233e+09    139\n",
       "1     8.328274e+09    137\n",
       "2     9.391018e+09    124\n",
       "3     9.908734e+09    114\n",
       "4     9.346707e+09    111\n",
       "5     9.121144e+09    102\n",
       "6     9.133799e+09     91\n",
       "7     9.182530e+09     88\n",
       "8     9.866131e+09     85\n",
       "9     9.346138e+09     80\n",
       "10    7.032321e+09     77\n",
       "11    8.185835e+09     77\n",
       "12    6.300124e+09     76\n",
       "13    8.085330e+09     75\n",
       "14    8.790116e+09     74\n",
       "15    8.328035e+09     73\n",
       "16    9.553695e+09     72\n",
       "17    6.300515e+09     71\n",
       "18    7.382277e+09     71\n",
       "19    7.075338e+09     70"
      ]
     },
     "execution_count": 26,
     "metadata": {},
     "output_type": "execute_result"
    }
   ],
   "source": [
    "data.groupby('CustomerMobile')['id'].count().nlargest(20).reset_index(name='Count')"
   ]
  },
  {
   "cell_type": "code",
   "execution_count": null,
   "id": "straight-message",
   "metadata": {},
   "outputs": [],
   "source": []
  }
 ],
 "metadata": {
  "kernelspec": {
   "display_name": "Python 3",
   "language": "python",
   "name": "python3"
  },
  "language_info": {
   "codemirror_mode": {
    "name": "ipython",
    "version": 3
   },
   "file_extension": ".py",
   "mimetype": "text/x-python",
   "name": "python",
   "nbconvert_exporter": "python",
   "pygments_lexer": "ipython3",
   "version": "3.9.1"
  }
 },
 "nbformat": 4,
 "nbformat_minor": 5
}
